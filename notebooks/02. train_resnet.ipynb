{
 "cells": [
  {
   "cell_type": "markdown",
   "source": [
    "# ResNet Training\n",
    "\n",
    "В этом ноутбуке будет произведено обучение модели `Resnet34` на полученном наборе данных из ноутбука\n",
    "`./notebooks/01. get_train_data`."
   ],
   "metadata": {
    "collapsed": false,
    "pycharm": {
     "name": "#%% md\n"
    }
   }
  },
  {
   "cell_type": "code",
   "execution_count": 3,
   "outputs": [
    {
     "name": "stdout",
     "output_type": "stream",
     "text": [
      "{\"asctime\": \"2021-07-03 02:30:00\", \"name\": \"matplotlib.pyplot\", \"filename\": \"pyplot.py\", \"levelname\": \"DEBUG\", \"message\": \"Loaded backend module://matplotlib_inline.backend_inline version unknown.\"}\n",
      "The autoreload extension is already loaded. To reload it, use:\n",
      "  %reload_ext autoreload\n"
     ]
    }
   ],
   "source": [
    "import os\n",
    "import sys\n",
    "import numpy as np\n",
    "import random\n",
    "from tqdm import tqdm\n",
    "\n",
    "sys.path.append('.')\n",
    "from definitions import ROOT_DIR\n",
    "from detectime.utils import (\n",
    "    save_checkpoint,\n",
    "    train_valid_split\n",
    ")\n",
    "from detectime.models import load_model\n",
    "from detectime.loss_function import get_loss\n",
    "from detectime.optimizers import (\n",
    "    get_optimizer,\n",
    "    get_scheduler\n",
    ")\n",
    "from detectime.dataset import get_data_loaders\n",
    "from detectime.train import train, validation\n",
    "\n",
    "%matplotlib inline\n",
    "%load_ext autoreload\n",
    "%autoreload 2"
   ],
   "metadata": {
    "collapsed": false,
    "pycharm": {
     "name": "#%%\n"
    }
   }
  },
  {
   "cell_type": "code",
   "execution_count": 4,
   "metadata": {
    "collapsed": true,
    "pycharm": {
     "name": "#%%\n"
    }
   },
   "outputs": [],
   "source": [
    "DATA_PATH = ROOT_DIR / 'data'\n",
    "NOTEBOOK_PATH = ROOT_DIR / 'notebooks'\n",
    "INPUT_DATA = DATA_PATH / 'INPUT_DATA'\n",
    "INPUT_IMAGES_FOLDER = INPUT_DATA / 'TRAIN_DATA'\n",
    "TRAIN_IMG_FOLDER = INPUT_DATA / 'TRAIN_IMG'\n",
    "SAVE_TRAIN_IMAGES_HANDS = TRAIN_IMG_FOLDER / 'HANDS'\n",
    "SAVE_TRAIN_IMAGES_FACES= TRAIN_IMG_FOLDER / 'FACES'\n",
    "\n",
    "JSON_FOLDER = INPUT_DATA / 'JSON'\n",
    "FACES_JSON_PRETRAINED = JSON_FOLDER / 'train_with_bboxes.json'\n",
    "TRAIN_LABELS = INPUT_DATA / 'train.csv'\n",
    "HAND_DETECTION_FOLDER = ROOT_DIR / 'model' / 'mask_rcnn_hand_detection.h5'\n",
    "ANNOTATION_DATA = JSON_FOLDER / 'hands.json'"
   ]
  },
  {
   "cell_type": "markdown",
   "source": [
    "Подгрузим известный нам конфиг и будем использовать `device` для обучения - либо `cpu`, либо `cuda`."
   ],
   "metadata": {
    "collapsed": false
   }
  },
  {
   "cell_type": "code",
   "execution_count": 44,
   "outputs": [
    {
     "name": "stdout",
     "output_type": "stream",
     "text": [
      "device: cpu\n"
     ]
    }
   ],
   "source": [
    "import torch\n",
    "import yaml\n",
    "from detectime.utils import convert_dict_to_tuple\n",
    "\n",
    "CONFIG_PATH = ROOT_DIR / 'config.yml'\n",
    "\n",
    "with open(CONFIG_PATH) as f:\n",
    "    data = yaml.safe_load(f)\n",
    "config = convert_dict_to_tuple(dictionary=data)\n",
    "\n",
    "device_name = 'cuda' if torch.cuda.is_available() else 'cpu'\n",
    "device = torch.device(device_name)\n",
    "print(f'device: {device_name}')"
   ],
   "metadata": {
    "collapsed": false,
    "pycharm": {
     "name": "#%%\n"
    }
   }
  },
  {
   "cell_type": "markdown",
   "source": [
    "Обеспечим консистентность и воспроизводимость системы."
   ],
   "metadata": {
    "collapsed": false
   }
  },
  {
   "cell_type": "code",
   "execution_count": 11,
   "outputs": [],
   "source": [
    "seed = config.dataset.seed\n",
    "torch.manual_seed(seed)\n",
    "np.random.seed(seed)\n",
    "random.seed(seed)\n",
    "\n",
    "torch.backends.cudnn.deterministic = True\n",
    "torch.backends.cudnn.benchmark = True\n",
    "\n",
    "os.environ['CUDA_VISIBLE_DEVICES'] = config.cuda_id"
   ],
   "metadata": {
    "collapsed": false,
    "pycharm": {
     "name": "#%%\n"
    }
   }
  },
  {
   "cell_type": "markdown",
   "source": [
    "Подгрузим веса модели `ResNet34`."
   ],
   "metadata": {
    "collapsed": false
   }
  },
  {
   "cell_type": "code",
   "execution_count": 12,
   "outputs": [
    {
     "name": "stdout",
     "output_type": "stream",
     "text": [
      "Loading model...\n",
      "ResNet34\n",
      "Done.\n"
     ]
    },
    {
     "name": "stderr",
     "output_type": "stream",
     "text": [
      "Downloading: \"https://download.pytorch.org/models/resnet34-b627a593.pth\" to C:\\Users\\shiro/.cache\\torch\\hub\\checkpoints\\resnet34-b627a593.pth\n"
     ]
    },
    {
     "data": {
      "text/plain": "  0%|          | 0.00/83.3M [00:00<?, ?B/s]",
      "application/vnd.jupyter.widget-view+json": {
       "version_major": 2,
       "version_minor": 0,
       "model_id": "f730164dffd14d0880377164a272ab67"
      }
     },
     "metadata": {},
     "output_type": "display_data"
    }
   ],
   "source": [
    "print(\"Loading model...\")\n",
    "net = load_model(config, device=device_name)\n",
    "print(\"Done.\")"
   ],
   "metadata": {
    "collapsed": false,
    "pycharm": {
     "name": "#%%\n"
    }
   }
  },
  {
   "cell_type": "markdown",
   "source": [
    "Подгрузим optimizer, scheduler и loss aggregator."
   ],
   "metadata": {
    "collapsed": false
   }
  },
  {
   "cell_type": "code",
   "execution_count": 45,
   "outputs": [],
   "source": [
    "criterion, criterion_val = get_loss(config, device=device_name)"
   ],
   "metadata": {
    "collapsed": false,
    "pycharm": {
     "name": "#%%\n"
    }
   }
  },
  {
   "cell_type": "code",
   "execution_count": 46,
   "outputs": [
    {
     "name": "stdout",
     "output_type": "stream",
     "text": [
      "0.002\n",
      "Opt:  SGD\n"
     ]
    }
   ],
   "source": [
    "optimizer = get_optimizer(config, net)"
   ],
   "metadata": {
    "collapsed": false,
    "pycharm": {
     "name": "#%%\n"
    }
   }
  },
  {
   "cell_type": "code",
   "execution_count": 47,
   "outputs": [
    {
     "name": "stderr",
     "output_type": "stream",
     "text": [
      "Epochs:   0%|          | 0/21 [00:00<?, ?it/s]"
     ]
    }
   ],
   "source": [
    "n_epoch = config.train.n_epoch\n",
    "scheduler = get_scheduler(config, optimizer)\n",
    "train_epoch = tqdm(range(config.train.n_epoch),\n",
    "                   dynamic_ncols=True,\n",
    "                   desc='Epochs',\n",
    "                   position=0)"
   ],
   "metadata": {
    "collapsed": false,
    "pycharm": {
     "name": "#%%\n"
    }
   }
  },
  {
   "cell_type": "markdown",
   "source": [
    "Разделим данные на обучение и валидацию по ключу `video_name`."
   ],
   "metadata": {
    "collapsed": false
   }
  },
  {
   "cell_type": "code",
   "execution_count": 54,
   "outputs": [
    {
     "name": "stdout",
     "output_type": "stream",
     "text": [
      "{\"asctime\": \"2021-07-03 03:03:25\", \"name\": \"detectime.utils\", \"filename\": \"utils.py\", \"levelname\": \"INFO\", \"message\": \"55\"}\n",
      "{\"asctime\": \"2021-07-03 03:03:25\", \"name\": \"detectime.utils\", \"filename\": \"utils.py\", \"levelname\": \"INFO\", \"message\": \"3\"}\n",
      "{\"asctime\": \"2021-07-03 03:03:25\", \"name\": \"detectime.utils\", \"filename\": \"utils.py\", \"levelname\": \"INFO\", \"message\": \"train data length=48\"}\n",
      "{\"asctime\": \"2021-07-03 03:03:25\", \"name\": \"detectime.utils\", \"filename\": \"utils.py\", \"levelname\": \"INFO\", \"message\": \"validation data length=7\"}\n",
      "{\"asctime\": \"2021-07-03 03:03:25\", \"name\": \"detectime.utils\", \"filename\": \"utils.py\", \"levelname\": \"INFO\", \"message\": \"Savedir train and valid data: C:\\\\Users\\\\shiro\\\\Desktop\\\\comp\\\\detectime\\\\data\\\\INPUT_DATA\\\\JSON\"}\n"
     ]
    }
   ],
   "source": [
    "train_data, val_data = train_valid_split(\n",
    "    ANNOTATION_DATA,\n",
    "    JSON_FOLDER,\n",
    "    val_size=0.4\n",
    ")"
   ],
   "metadata": {
    "collapsed": false,
    "pycharm": {
     "name": "#%%\n"
    }
   }
  },
  {
   "cell_type": "code",
   "execution_count": 43,
   "outputs": [
    {
     "data": {
      "text/plain": "'[{\"frame_path\":\"b89f94cb5b0acaa41c979e6a11b91e29\\\\/1293d1fb4328d6311892a11b9d36950c.jpg\",\"video_name\":\"b89f94cb5b0acaa41c979e6a11b91e29\",\"frame_id\":116,\"label\":6,\"bbox\":[735,452,976,672]},{\"frame_path\":\"b89f94cb5b0acaa41c979e6a11b91e29\\\\/23260397b76a2d0da2b6e76c593e9018.jpg\",\"video_name\":\"b89f94cb5b0acaa41c979e6a11b91e29\",\"frame_id\":159,\"label\":5,\"bbox\":[1306,601,1561,827]},{\"frame_path\":\"b89f94cb5b0acaa41c979e6a11b91e29\\\\/d04fbd941360010fcdb102a1c81155b6.jpg\",\"video_name\":\"b89f94cb5b0acaa41c979e6a11b91e29\",\"frame_id\":266,\"label\":6,\"bbox\":[557,427,750,633]},{\"frame_path\":\"b89f94cb5b0acaa41c979e6a11b91e29\\\\/46a5e10436ff5996a5273b1e3254c837.jpg\",\"video_name\":\"b89f94cb5b0acaa41c979e6a11b91e29\",\"frame_id\":315,\"label\":5,\"bbox\":[494,454,712,733]},{\"frame_path\":\"b89f94cb5b0acaa41c979e6a11b91e29\\\\/9634382958ae68234098080f5563e393.jpg\",\"video_name\":\"b89f94cb5b0acaa41c979e6a11b91e29\",\"frame_id\":368,\"label\":5,\"bbox\":[483,478,634,723]},{\"frame_path\":\"b89f94cb5b0acaa41c979e6a11b91e29\\\\/227a013756870ec576d15ecdc86efa27.jpg\",\"video_name\":\"b89f94cb5b0acaa41c979e6a11b91e29\",\"frame_id\":517,\"label\":5,\"bbox\":[934,545,1227,771]},{\"frame_path\":\"b89f94cb5b0acaa41c979e6a11b91e29\\\\/b0603278b9525d48e06d4a1d289c15f2.jpg\",\"video_name\":\"b89f94cb5b0acaa41c979e6a11b91e29\",\"frame_id\":673,\"label\":5,\"bbox\":[856,704,972,881]},{\"frame_path\":\"b89f94cb5b0acaa41c979e6a11b91e29\\\\/17d10e5c3160334acddb2f1a38f57b07.jpg\",\"video_name\":\"b89f94cb5b0acaa41c979e6a11b91e29\",\"frame_id\":883,\"label\":6,\"bbox\":[992,446,1233,683]},{\"frame_path\":\"b92511bca668b7a0d17654001427f773\\\\/d4bcc7d4aca092b4387a4170f7244065.jpg\",\"video_name\":\"b92511bca668b7a0d17654001427f773\",\"frame_id\":89,\"label\":2,\"bbox\":[372,177,574,473]},{\"frame_path\":\"b92511bca668b7a0d17654001427f773\\\\/f721d99ccef847408e2b08276c199319.jpg\",\"video_name\":\"b92511bca668b7a0d17654001427f773\",\"frame_id\":94,\"label\":2,\"bbox\":[351,132,570,473]},{\"frame_path\":\"b92511bca668b7a0d17654001427f773\\\\/b767226ca0c3935ca47a8e4ab9304b0b.jpg\",\"video_name\":\"b92511bca668b7a0d17654001427f773\",\"frame_id\":99,\"label\":2,\"bbox\":[229,77,447,525]},{\"frame_path\":\"b92511bca668b7a0d17654001427f773\\\\/c712cfb1a302b865c30f6b048b2e27bb.jpg\",\"video_name\":\"b92511bca668b7a0d17654001427f773\",\"frame_id\":109,\"label\":2,\"bbox\":[248,86,453,451]},{\"frame_path\":\"b92511bca668b7a0d17654001427f773\\\\/4c4c6dde1ef5d0346445951b6efd342e.jpg\",\"video_name\":\"b92511bca668b7a0d17654001427f773\",\"frame_id\":114,\"label\":2,\"bbox\":[222,68,444,510]},{\"frame_path\":\"b92511bca668b7a0d17654001427f773\\\\/702b8aa719152a0ddf887ecb57ff01f0.jpg\",\"video_name\":\"b92511bca668b7a0d17654001427f773\",\"frame_id\":119,\"label\":2,\"bbox\":[230,76,438,516]},{\"frame_path\":\"b92511bca668b7a0d17654001427f773\\\\/b02f248f4afa97f112c4d04d9868233c.jpg\",\"video_name\":\"b92511bca668b7a0d17654001427f773\",\"frame_id\":124,\"label\":2,\"bbox\":[217,111,425,507]},{\"frame_path\":\"b92511bca668b7a0d17654001427f773\\\\/11bb9093352755f07c39f233e2eee290.jpg\",\"video_name\":\"b92511bca668b7a0d17654001427f773\",\"frame_id\":176,\"label\":2,\"bbox\":[445,306,653,598]},{\"frame_path\":\"b92511bca668b7a0d17654001427f773\\\\/7a8c4cf6da190301143a28075afc173b.jpg\",\"video_name\":\"b92511bca668b7a0d17654001427f773\",\"frame_id\":261,\"label\":2,\"bbox\":[694,161,884,433]},{\"frame_path\":\"b92511bca668b7a0d17654001427f773\\\\/63839ea253fe0711cd725b89ebcb1ed8.jpg\",\"video_name\":\"b92511bca668b7a0d17654001427f773\",\"frame_id\":266,\"label\":2,\"bbox\":[727,102,981,424]},{\"frame_path\":\"b92511bca668b7a0d17654001427f773\\\\/9dab6a2c36aa00a136ea75a3467dd0a3.jpg\",\"video_name\":\"b92511bca668b7a0d17654001427f773\",\"frame_id\":271,\"label\":2,\"bbox\":[729,105,986,432]},{\"frame_path\":\"b92511bca668b7a0d17654001427f773\\\\/97f60339c487dfeb1b3d0771e8acb4d4.jpg\",\"video_name\":\"b92511bca668b7a0d17654001427f773\",\"frame_id\":276,\"label\":2,\"bbox\":[739,88,973,435]},{\"frame_path\":\"b92511bca668b7a0d17654001427f773\\\\/8d411d01995e867cd9a3ba6ad079cf27.jpg\",\"video_name\":\"b92511bca668b7a0d17654001427f773\",\"frame_id\":281,\"label\":2,\"bbox\":[735,93,976,439]},{\"frame_path\":\"b92511bca668b7a0d17654001427f773\\\\/5483dcadfc88f95924f7a3ac84855390.jpg\",\"video_name\":\"b92511bca668b7a0d17654001427f773\",\"frame_id\":286,\"label\":2,\"bbox\":[768,113,990,409]},{\"frame_path\":\"b92511bca668b7a0d17654001427f773\\\\/681711ff07df1a3a6f84562c653ded43.jpg\",\"video_name\":\"b92511bca668b7a0d17654001427f773\",\"frame_id\":341,\"label\":2,\"bbox\":[405,152,637,487]},{\"frame_path\":\"b92511bca668b7a0d17654001427f773\\\\/f6b2a69891acfbf34e0cb8b0c58c74c0.jpg\",\"video_name\":\"b92511bca668b7a0d17654001427f773\",\"frame_id\":346,\"label\":2,\"bbox\":[408,114,626,453]},{\"frame_path\":\"b92511bca668b7a0d17654001427f773\\\\/2d81debf0d7003789761ebcb671e83ed.jpg\",\"video_name\":\"b92511bca668b7a0d17654001427f773\",\"frame_id\":351,\"label\":2,\"bbox\":[316,92,533,449]},{\"frame_path\":\"b92511bca668b7a0d17654001427f773\\\\/c4d8a0b8412552a2c14bb0c8016c4e9a.jpg\",\"video_name\":\"b92511bca668b7a0d17654001427f773\",\"frame_id\":356,\"label\":2,\"bbox\":[303,89,520,495]},{\"frame_path\":\"b92511bca668b7a0d17654001427f773\\\\/ec22311cb5fdff32211f7aaa9f1d1a6d.jpg\",\"video_name\":\"b92511bca668b7a0d17654001427f773\",\"frame_id\":361,\"label\":2,\"bbox\":[300,92,518,486]},{\"frame_path\":\"b92511bca668b7a0d17654001427f773\\\\/1c14c0fff4c6617deb7c6c8b377b2cfb.jpg\",\"video_name\":\"b92511bca668b7a0d17654001427f773\",\"frame_id\":366,\"label\":2,\"bbox\":[297,91,514,494]},{\"frame_path\":\"b92511bca668b7a0d17654001427f773\\\\/7a715b9f2950ee69f03fa56f1b340b17.jpg\",\"video_name\":\"b92511bca668b7a0d17654001427f773\",\"frame_id\":371,\"label\":2,\"bbox\":[298,91,514,493]},{\"frame_path\":\"b92511bca668b7a0d17654001427f773\\\\/d2e2d7eff7d34c2610da815f5889ed99.jpg\",\"video_name\":\"b92511bca668b7a0d17654001427f773\",\"frame_id\":376,\"label\":2,\"bbox\":[303,90,511,484]},{\"frame_path\":\"b92511bca668b7a0d17654001427f773\\\\/76e5718ae63b1809265de3512ea1cef1.jpg\",\"video_name\":\"b92511bca668b7a0d17654001427f773\",\"frame_id\":445,\"label\":2,\"bbox\":[980,219,1173,511]},{\"frame_path\":\"b92511bca668b7a0d17654001427f773\\\\/da38579cff06b7f8acf807cdebfd2c4b.jpg\",\"video_name\":\"b92511bca668b7a0d17654001427f773\",\"frame_id\":480,\"label\":2,\"bbox\":[1108,194,1280,530]},{\"frame_path\":\"b92511bca668b7a0d17654001427f773\\\\/002e39764cb95916076e27fb10402224.jpg\",\"video_name\":\"b92511bca668b7a0d17654001427f773\",\"frame_id\":614,\"label\":2,\"bbox\":[790,267,953,552]},{\"frame_path\":\"b92511bca668b7a0d17654001427f773\\\\/5a50d186d7b249f61f8f9b6e5c0e8d4a.jpg\",\"video_name\":\"b92511bca668b7a0d17654001427f773\",\"frame_id\":619,\"label\":2,\"bbox\":[823,237,1013,532]},{\"frame_path\":\"b92511bca668b7a0d17654001427f773\\\\/b3aedd26b5fcf795111dd419441abce9.jpg\",\"video_name\":\"b92511bca668b7a0d17654001427f773\",\"frame_id\":634,\"label\":2,\"bbox\":[884,294,1084,600]},{\"frame_path\":\"b92511bca668b7a0d17654001427f773\\\\/5e743d6d5b2efa54f059021f9089665e.jpg\",\"video_name\":\"b92511bca668b7a0d17654001427f773\",\"frame_id\":639,\"label\":2,\"bbox\":[885,300,1081,586]},{\"frame_path\":\"b92511bca668b7a0d17654001427f773\\\\/08ce080d4e23f369dabbc845fd5480b7.jpg\",\"video_name\":\"b92511bca668b7a0d17654001427f773\",\"frame_id\":644,\"label\":2,\"bbox\":[888,299,1081,601]},{\"frame_path\":\"b92511bca668b7a0d17654001427f773\\\\/d77c6e73c62f1386f47564dce2e090db.jpg\",\"video_name\":\"b92511bca668b7a0d17654001427f773\",\"frame_id\":649,\"label\":2,\"bbox\":[881,297,1079,594]},{\"frame_path\":\"b92511bca668b7a0d17654001427f773\\\\/ac327179256dc8c0e3cffa431eaf58d5.jpg\",\"video_name\":\"b92511bca668b7a0d17654001427f773\",\"frame_id\":654,\"label\":2,\"bbox\":[880,296,1074,595]},{\"frame_path\":\"b92511bca668b7a0d17654001427f773\\\\/6474b308614594e0d309821b5f3cd893.jpg\",\"video_name\":\"b92511bca668b7a0d17654001427f773\",\"frame_id\":698,\"label\":2,\"bbox\":[890,207,1106,525]},{\"frame_path\":\"b92511bca668b7a0d17654001427f773\\\\/047edc02e954683fc4d94a9d2feb178d.jpg\",\"video_name\":\"b92511bca668b7a0d17654001427f773\",\"frame_id\":703,\"label\":2,\"bbox\":[859,158,1069,467]},{\"frame_path\":\"b92511bca668b7a0d17654001427f773\\\\/bf04520218004483a5191cc97b30bf83.jpg\",\"video_name\":\"b92511bca668b7a0d17654001427f773\",\"frame_id\":708,\"label\":2,\"bbox\":[860,108,1062,422]},{\"frame_path\":\"b92511bca668b7a0d17654001427f773\\\\/8d886d49b6c512fe15e4925bea1a9134.jpg\",\"video_name\":\"b92511bca668b7a0d17654001427f773\",\"frame_id\":713,\"label\":2,\"bbox\":[976,84,1194,436]},{\"frame_path\":\"b92511bca668b7a0d17654001427f773\\\\/2759fc3a269ef09e123a503698ee4369.jpg\",\"video_name\":\"b92511bca668b7a0d17654001427f773\",\"frame_id\":718,\"label\":2,\"bbox\":[981,64,1188,420]},{\"frame_path\":\"b92511bca668b7a0d17654001427f773\\\\/002406009bcba249ac9c1a2fe71c72db.jpg\",\"video_name\":\"b92511bca668b7a0d17654001427f773\",\"frame_id\":723,\"label\":2,\"bbox\":[973,65,1192,420]},{\"frame_path\":\"b92511bca668b7a0d17654001427f773\\\\/a87cba7d3ccef237f061c175fc311330.jpg\",\"video_name\":\"b92511bca668b7a0d17654001427f773\",\"frame_id\":728,\"label\":2,\"bbox\":[981,70,1199,433]},{\"frame_path\":\"b92511bca668b7a0d17654001427f773\\\\/770d47c7440938c1c8a074e67dfd1fc1.jpg\",\"video_name\":\"b92511bca668b7a0d17654001427f773\",\"frame_id\":733,\"label\":2,\"bbox\":[983,75,1199,442]},{\"frame_path\":\"b92511bca668b7a0d17654001427f773\\\\/44e352bcc2220213deb8db9ca71b67d9.jpg\",\"video_name\":\"b92511bca668b7a0d17654001427f773\",\"frame_id\":738,\"label\":2,\"bbox\":[984,72,1202,441]}]'"
     },
     "execution_count": 43,
     "metadata": {},
     "output_type": "execute_result"
    }
   ],
   "source": [
    "ANNOTATIONS_TRAIN = JSON_FOLDER / 'train.json'\n",
    "ANNOTATIONS_VALID= JSON_FOLDER / 'valid.json'"
   ],
   "metadata": {
    "collapsed": false,
    "pycharm": {
     "name": "#%%\n"
    }
   }
  },
  {
   "cell_type": "code",
   "execution_count": 34,
   "outputs": [
    {
     "name": "stdout",
     "output_type": "stream",
     "text": [
      "Preparing train reader...\n",
      "Done.\n",
      "Preparing valid reader...\n",
      "Done.\n",
      "Savedir: C:\\Users\\shiro\\Desktop\\comp\\detectime\\data\\experiments\\test\n"
     ]
    },
    {
     "name": "stderr",
     "output_type": "stream",
     "text": [
      "C:\\Users\\shiro\\Desktop\\detectime\\lib\\site-packages\\torch\\utils\\data\\dataloader.py:481: UserWarning: This DataLoader will create 16 worker processes in total. Our suggested max number of worker in current system is 4 (`cpuset` is not taken into account), which is smaller than what this DataLoader is going to create. Please be aware that excessive worker creation might get DataLoader running slow or even freeze, lower the worker number to avoid potential slowness/freeze if necessary.\n",
      "  cpuset_checked))\n"
     ]
    }
   ],
   "source": [
    "dt, dv = get_data_loaders(config,\n",
    "                          INPUT_IMAGES_FOLDER,\n",
    "                          ANNOTATIONS_TRAIN,\n",
    "                          ANNOTATIONS_VALID\n",
    "                          )\n",
    "\n",
    "out_dir = str(DATA_PATH / os.path.join(config.outdir, 'test'))\n",
    "print(\"Savedir: {}\".format(out_dir))\n",
    "if not os.path.exists(out_dir):\n",
    "    os.makedirs(out_dir)"
   ],
   "metadata": {
    "collapsed": false,
    "pycharm": {
     "name": "#%%\n"
    }
   }
  },
  {
   "cell_type": "code",
   "execution_count": 35,
   "outputs": [],
   "source": [
    "for epoch in train_epoch:\n",
    "    train(net, dt, criterion, optimizer, config, epoch)\n",
    "    validation(net, dv, criterion_val, epoch)\n",
    "    save_checkpoint(net, optimizer, scheduler, epoch, out_dir)\n",
    "    scheduler.step()"
   ],
   "metadata": {
    "collapsed": false,
    "pycharm": {
     "name": "#%%\n"
    }
   }
  },
  {
   "cell_type": "code",
   "execution_count": null,
   "outputs": [],
   "source": [],
   "metadata": {
    "collapsed": false,
    "pycharm": {
     "name": "#%%\n"
    }
   }
  }
 ],
 "metadata": {
  "kernelspec": {
   "name": "pycharm-f3bbdf2d",
   "language": "python",
   "display_name": "PyCharm (detectime)"
  },
  "language_info": {
   "codemirror_mode": {
    "name": "ipython",
    "version": 2
   },
   "file_extension": ".py",
   "mimetype": "text/x-python",
   "name": "python",
   "nbconvert_exporter": "python",
   "pygments_lexer": "ipython2",
   "version": "2.7.6"
  }
 },
 "nbformat": 4,
 "nbformat_minor": 0
}