{
 "cells": [
  {
   "cell_type": "markdown",
   "source": [
    "# ResNet Training\n",
    "\n",
    "В этом ноутбуке будет произведено обучение модели `Resnet34` на полученном наборе данных из ноутбука\n",
    "`./notebooks/01. get_train_data`."
   ],
   "metadata": {
    "collapsed": false,
    "pycharm": {
     "name": "#%% md\n"
    }
   }
  },
  {
   "cell_type": "code",
   "execution_count": 1,
   "outputs": [
    {
     "name": "stdout",
     "output_type": "stream",
     "text": [
      "{\"asctime\": \"2021-07-03 05:14:51\", \"name\": \"matplotlib\", \"filename\": \"__init__.py\", \"levelname\": \"DEBUG\", \"message\": \"matplotlib data path: C:\\\\Users\\\\shiro\\\\Desktop\\\\detectime\\\\lib\\\\site-packages\\\\matplotlib\\\\mpl-data\"}\n",
      "{\"asctime\": \"2021-07-03 05:14:51\", \"name\": \"matplotlib\", \"filename\": \"__init__.py\", \"levelname\": \"DEBUG\", \"message\": \"CONFIGDIR=C:\\\\Users\\\\shiro\\\\.matplotlib\"}\n",
      "{\"asctime\": \"2021-07-03 05:14:51\", \"name\": \"matplotlib\", \"filename\": \"__init__.py\", \"levelname\": \"DEBUG\", \"message\": \"matplotlib version 3.4.2\"}\n",
      "{\"asctime\": \"2021-07-03 05:14:51\", \"name\": \"matplotlib\", \"filename\": \"__init__.py\", \"levelname\": \"DEBUG\", \"message\": \"interactive is False\"}\n",
      "{\"asctime\": \"2021-07-03 05:14:51\", \"name\": \"matplotlib\", \"filename\": \"__init__.py\", \"levelname\": \"DEBUG\", \"message\": \"platform is win32\"}\n",
      "{\"asctime\": \"2021-07-03 05:14:51\", \"name\": \"matplotlib\", \"filename\": \"__init__.py\", \"levelname\": \"DEBUG\", \"message\": \"loaded modules: ['sys', 'builtins', '_frozen_importlib', '_imp', '_thread', '_warnings', '_weakref', 'zipimport', '_frozen_importlib_external', '_io', 'marshal', 'nt', 'winreg', 'encodings', 'codecs', '_codecs', 'encodings.aliases', 'encodings.utf_8', '_signal', '__main__', 'encodings.latin_1', 'io', 'abc', '_abc', '_bootlocale', '_locale', 'encodings.cp1251', 'site', 'os', 'stat', '_stat', 'ntpath', 'genericpath', 'os.path', '_collections_abc', '_sitebuiltins', 'types', 'importlib', 'importlib._bootstrap', 'importlib._bootstrap_external', 'warnings', 'importlib.util', 'importlib.abc', 'importlib.machinery', 'contextlib', 'collections', 'operator', '_operator', 'keyword', 'heapq', '_heapq', 'itertools', 'reprlib', '_collections', 'functools', '_functools', 'google', 'mpl_toolkits', 'pywin32_bootstrap', 'pywin32_system32', 'runpy', 'pkgutil', 'weakref', '_weakrefset', 'ipykernel', 'ipykernel._version', 'ipykernel.connect', 'json', 'json.decoder', 're', 'enum', 'sre_compile', '_sre', 'sre_parse', 'sre_constants', 'copyreg', 'json.scanner', '_json', 'json.encoder', 'subprocess', 'time', 'signal', 'errno', 'threading', 'traceback', 'linecache', 'tokenize', 'token', 'msvcrt', '_winapi', 'IPython', 'IPython.core', 'IPython.core.getipython', 'IPython.core.release', 'IPython.core.application', 'atexit', 'copy', 'glob', 'fnmatch', 'posixpath', 'logging', 'collections.abc', 'string', '_string', 'shutil', 'zlib', 'bz2', '_compression', '_bz2', 'lzma', '_lzma', 'traitlets', 'traitlets.traitlets', 'ast', '_ast', 'inspect', 'dis', 'opcode', '_opcode', 'traitlets.utils', 'traitlets.utils.getargspec', 'traitlets.utils.importstring', 'traitlets.utils.sentinel', 'traitlets.utils.bunch', 'traitlets.utils.descriptions', 'traitlets.utils.decorators', 'traitlets._version', 'traitlets.config', 'traitlets.config.application', 'pprint', 'traitlets.config.configurable', 'traitlets.config.loader', 'argparse', 'gettext', 'locale', 'ipython_genutils', 'ipython_genutils._version', 'ipython_genutils.path', 'random', 'math', 'hashlib', '_hashlib', '_blake2', '_sha3', 'bisect', '_bisect', '_random', 'ipython_genutils.py3compat', 'ipython_genutils.encoding', 'platform', 'ipython_genutils.text', 'textwrap', 'IPython.core.crashhandler', 'IPython.core.ultratb', 'pydoc', 'urllib', 'urllib.parse', 'IPython.core.debugger', 'bdb', 'IPython.utils', 'IPython.utils.PyColorize', 'IPython.utils.coloransi', 'IPython.utils.ipstruct', 'IPython.utils.colorable', 'pygments', 'IPython.utils.py3compat', 'IPython.utils.encoding', 'IPython.core.excolors', 'IPython.testing', 'IPython.testing.skipdoctest', 'pdb', 'cmd', 'code', 'codeop', '__future__', 'IPython.core.display_trap', 'IPython.utils.path', 'IPython.utils.process', 'IPython.utils._process_win32', 'ctypes', '_ctypes', 'struct', '_struct', 'ctypes._endian', 'ctypes.wintypes', 'IPython.utils._process_common', 'shlex', 'IPython.utils.decorators', 'IPython.utils.data', 'IPython.utils.terminal', 'IPython.utils.sysinfo', 'IPython.utils._sysinfo', 'IPython.core.profiledir', 'IPython.paths', 'tempfile', 'IPython.utils.importstring', 'IPython.terminal', 'IPython.terminal.embed', 'IPython.core.compilerop', 'IPython.core.magic_arguments', 'IPython.core.error', 'IPython.utils.text', 'pathlib', 'IPython.core.magic', 'getopt', 'IPython.core.oinspect', 'typing', 'typing.io', 'typing.re', 'IPython.core.page', 'IPython.core.display', 'binascii', 'mimetypes', 'IPython.lib', 'IPython.lib.security', 'getpass', 'IPython.lib.pretty', 'datetime', '_datetime', 'IPython.utils.openpy', 'IPython.utils.dir2', 'IPython.utils.wildcard', 'pygments.lexers', 'pygments.lexers._mapping', 'pygments.modeline', 'pygments.plugin', 'pygments.util', 'pygments.lexers.python', 'pygments.lexer', 'pygments.filter', 'pygments.filters', 'pygments.token', 'pygments.regexopt', 'pygments.unistring', 'pygments.formatters', 'pygments.formatters._mapping', 'pygments.formatters.html', 'pygments.formatter', 'pygments.styles', 'IPython.core.inputtransformer2', 'decorator', 'IPython.core.interactiveshell', 'pickleshare', 'pickle', '_compat_pickle', '_pickle', 'IPython.core.prefilter', 'IPython.core.autocall', 'IPython.core.macro', 'IPython.core.splitinput', 'IPython.core.alias', 'IPython.core.builtin_trap', 'IPython.core.events', 'backcall', 'backcall.backcall', 'IPython.core.displayhook', 'IPython.core.displaypub', 'IPython.core.extensions', 'IPython.core.formatters', 'IPython.utils.sentinel', 'IPython.core.history', 'sqlite3', 'sqlite3.dbapi2', '_sqlite3', 'IPython.core.logger', 'IPython.core.payload', 'IPython.core.usage', 'IPython.display', 'IPython.lib.display', 'html', 'html.entities', 'IPython.utils.io', 'IPython.utils.capture', 'IPython.utils.strdispatch', 'IPython.core.hooks', 'IPython.utils.syspathcontext', 'IPython.utils.tempdir', 'IPython.utils.contexts', 'IPython.core.async_helpers', 'IPython.terminal.interactiveshell', 'asyncio', 'asyncio.base_events', 'concurrent', 'concurrent.futures', 'concurrent.futures._base', 'socket', '_socket', 'selectors', 'select', 'ssl', '_ssl', 'base64', 'asyncio.constants', 'asyncio.coroutines', 'asyncio.base_futures', 'asyncio.format_helpers', 'asyncio.log', 'asyncio.events', 'contextvars', '_contextvars', 'asyncio.base_tasks', '_asyncio', 'asyncio.futures', 'asyncio.protocols', 'asyncio.sslproto', 'asyncio.transports', 'asyncio.tasks', 'asyncio.locks', 'asyncio.runners', 'asyncio.queues', 'asyncio.streams', 'asyncio.subprocess', 'asyncio.windows_events', '_overlapped', 'asyncio.base_subprocess', 'asyncio.proactor_events', 'asyncio.selector_events', 'asyncio.windows_utils', 'prompt_toolkit', 'prompt_toolkit.application', 'prompt_toolkit.application.application', 'prompt_toolkit.buffer', 'prompt_toolkit.application.current', 'prompt_toolkit.application.run_in_terminal', 'prompt_toolkit.eventloop', 'prompt_toolkit.eventloop.async_generator', 'prompt_toolkit.eventloop.utils', 'prompt_toolkit.eventloop.inputhook', 'prompt_toolkit.utils', 'wcwidth', 'wcwidth.wcwidth', 'wcwidth.table_wide', 'wcwidth.table_zero', 'wcwidth.unicode_versions', 'prompt_toolkit.auto_suggest', 'prompt_toolkit.document', 'prompt_toolkit.clipboard', 'prompt_toolkit.clipboard.base', 'prompt_toolkit.selection', 'prompt_toolkit.clipboard.in_memory', 'prompt_toolkit.filters', 'prompt_toolkit.filters.app', 'prompt_toolkit.cache', 'prompt_toolkit.enums', 'prompt_toolkit.filters.base', 'prompt_toolkit.filters.cli', 'prompt_toolkit.filters.utils', 'prompt_toolkit.completion', 'prompt_toolkit.completion.base', 'prompt_toolkit.formatted_text', 'prompt_toolkit.formatted_text.ansi', 'prompt_toolkit.output', 'prompt_toolkit.output.base', 'prompt_toolkit.data_structures', 'prompt_toolkit.styles', 'prompt_toolkit.styles.base', 'prompt_toolkit.styles.defaults', 'prompt_toolkit.styles.named_colors', 'prompt_toolkit.styles.style', 'prompt_toolkit.styles.pygments', 'prompt_toolkit.styles.style_transformation', 'colorsys', 'prompt_toolkit.output.color_depth', 'prompt_toolkit.output.defaults', 'prompt_toolkit.output.vt100', 'array', 'prompt_toolkit.formatted_text.base', 'prompt_toolkit.mouse_events', 'prompt_toolkit.formatted_text.html', 'xml', 'xml.dom', 'xml.dom.domreg', 'xml.dom.minidom', 'xml.dom.minicompat', 'xml.dom.xmlbuilder', 'xml.dom.NodeFilter', 'prompt_toolkit.formatted_text.pygments', 'prompt_toolkit.formatted_text.utils', 'prompt_toolkit.completion.deduplicate', 'prompt_toolkit.completion.filesystem', 'prompt_toolkit.completion.fuzzy_completer', 'prompt_toolkit.completion.word_completer', 'prompt_toolkit.completion.nested', 'prompt_toolkit.history', 'prompt_toolkit.search', 'prompt_toolkit.key_binding', 'prompt_toolkit.key_binding.key_bindings', 'prompt_toolkit.keys', 'prompt_toolkit.key_binding.key_processor', 'prompt_toolkit.key_binding.vi_state', 'prompt_toolkit.validation', 'prompt_toolkit.input', 'prompt_toolkit.input.base', 'prompt_toolkit.input.defaults', 'prompt_toolkit.input.typeahead', 'prompt_toolkit.key_binding.bindings', 'prompt_toolkit.key_binding.bindings.page_navigation', 'prompt_toolkit.key_binding.bindings.scroll', 'prompt_toolkit.key_binding.defaults', 'prompt_toolkit.key_binding.bindings.basic', 'prompt_toolkit.key_binding.bindings.named_commands', 'prompt_toolkit.layout', 'prompt_toolkit.layout.containers', 'prompt_toolkit.layout.controls', 'prompt_toolkit.lexers', 'prompt_toolkit.lexers.base', 'prompt_toolkit.lexers.pygments', 'prompt_toolkit.layout.processors', 'prompt_toolkit.layout.utils', 'prompt_toolkit.layout.dimension', 'prompt_toolkit.layout.margins', 'prompt_toolkit.layout.mouse_handlers', 'prompt_toolkit.layout.screen', 'prompt_toolkit.layout.layout', 'prompt_toolkit.layout.menus', 'prompt_toolkit.layout.scrollable_pane', 'prompt_toolkit.key_binding.bindings.completion', 'prompt_toolkit.key_binding.bindings.cpr', 'prompt_toolkit.key_binding.bindings.emacs', 'prompt_toolkit.key_binding.bindings.mouse', 'prompt_toolkit.key_binding.bindings.vi', 'prompt_toolkit.input.vt100_parser', 'prompt_toolkit.input.ansi_escape_sequences', 'prompt_toolkit.key_binding.digraphs', 'prompt_toolkit.key_binding.emacs_state', 'prompt_toolkit.layout.dummy', 'prompt_toolkit.renderer', 'prompt_toolkit.application.dummy', 'prompt_toolkit.shortcuts', 'prompt_toolkit.shortcuts.dialogs', 'prompt_toolkit.key_binding.bindings.focus', 'prompt_toolkit.widgets', 'prompt_toolkit.widgets.base', 'prompt_toolkit.widgets.toolbars', 'prompt_toolkit.widgets.dialogs', 'prompt_toolkit.widgets.menus', 'prompt_toolkit.shortcuts.progress_bar', 'prompt_toolkit.shortcuts.progress_bar.base', 'prompt_toolkit.shortcuts.progress_bar.formatters', 'prompt_toolkit.shortcuts.prompt', 'prompt_toolkit.key_binding.bindings.auto_suggest', 'prompt_toolkit.key_binding.bindings.open_in_editor', 'prompt_toolkit.shortcuts.utils', 'prompt_toolkit.patch_stdout', 'queue', '_queue', 'pygments.style', 'IPython.terminal.debugger', 'IPython.core.completer', 'unicodedata', 'IPython.core.latex_symbols', 'IPython.utils.generics', 'jedi', 'jedi.api', 'parso', 'parso.parser', 'parso.tree', 'parso.utils', 'parso.pgen2', 'parso.pgen2.generator', 'parso.pgen2.grammar_parser', 'parso.python', 'parso.python.tokenize', 'parso.python.token', 'parso.grammar', 'parso._compatibility', 'parso.python.diff', 'difflib', 'parso.python.parser', 'parso.python.tree', 'parso.python.prefix', 'parso.cache', 'gc', 'parso.python.errors', 'parso.normalizer', 'parso.python.pep8', 'parso.file_io', 'jedi._compatibility', 'jedi.parser_utils', 'jedi.debug', 'jedi.settings', 'jedi.cache', 'jedi.file_io', 'jedi.api.classes', 'jedi.inference', 'jedi.inference.imports', 'jedi.inference.sys_path', 'jedi.inference.cache', 'jedi.inference.base_value', 'jedi.inference.helpers', 'jedi.inference.utils', 'jedi.inference.compiled', 'jedi.inference.compiled.value', 'jedi.inference.filters', 'jedi.inference.flow_analysis', 'jedi.inference.recursion', 'jedi.inference.names', 'jedi.inference.docstrings', 'jedi.common', 'jedi.inference.lazy_value', 'jedi.plugins', 'jedi.inference.compiled.access', 'jedi.inference.compiled.getattr_static', 'jedi.inference.signature', 'jedi.inference.context', 'jedi.inference.analysis', 'jedi.inference.gradual', 'jedi.inference.gradual.typeshed', 'jedi.inference.gradual.stub_value', 'jedi.inference.value', 'jedi.inference.value.module', 'jedi.inference.value.klass', 'jedi.inference.arguments', 'jedi.inference.value.iterable', 'jedi.inference.value.dynamic_arrays', 'jedi.inference.value.function', 'jedi.inference.parser_cache', 'jedi.inference.gradual.generics', 'jedi.inference.value.instance', 'jedi.inference.gradual.typing', 'jedi.inference.gradual.base', 'jedi.inference.gradual.type_var', 'jedi.inference.compiled.subprocess', 'jedi.inference.compiled.subprocess.functions', 'jedi.api.exceptions', 'jedi.inference.syntax_tree', 'jedi.inference.gradual.annotation', 'jedi.inference.param', 'jedi.inference.value.decorator', 'jedi.inference.compiled.mixed', 'jedi.inference.gradual.conversion', 'jedi.api.keywords', 'pydoc_data', 'pydoc_data.topics', 'jedi.api.completion_cache', 'jedi.api.helpers', 'jedi.api.interpreter', 'jedi.api.completion', 'jedi.api.strings', 'jedi.api.file_name', 'jedi.api.environment', 'filecmp', 'jedi.api.project', 'jedi.inference.references', 'jedi.api.errors', 'jedi.api.refactoring', 'jedi.api.refactoring.extract', 'jedi.inference.gradual.utils', 'jedi.plugins.registry', 'jedi.plugins.stdlib', 'jedi.plugins.flask', 'jedi.plugins.pytest', 'jedi.plugins.django', 'IPython.terminal.ptutils', 'IPython.terminal.shortcuts', 'IPython.lib.clipboard', 'IPython.terminal.magics', 'IPython.terminal.pt_inputhooks', 'IPython.terminal.prompts', 'IPython.terminal.ipapp', 'IPython.core.magics', 'IPython.core.magics.auto', 'IPython.core.magics.basic', 'IPython.core.magics.code', 'urllib.request', 'email', 'http', 'http.client', 'email.parser', 'email.feedparser', 'email.errors', 'email._policybase', 'email.header', 'email.quoprimime', 'email.base64mime', 'email.charset', 'email.encoders', 'quopri', 'email.utils', 'email._parseaddr', 'calendar', 'email.message', 'uu', 'email._encoded_words', 'email.iterators', 'urllib.error', 'urllib.response', 'nturl2path', 'IPython.core.magics.config', 'IPython.core.magics.display', 'IPython.core.magics.execution', 'timeit', 'cProfile', '_lsprof', 'profile', 'pstats', 'IPython.utils.module_paths', 'IPython.utils.timing', 'IPython.core.magics.extension', 'IPython.core.magics.history', 'IPython.core.magics.logging', 'IPython.core.magics.namespace', 'IPython.core.magics.osm', 'IPython.core.magics.packaging', 'IPython.core.magics.pylab', 'IPython.core.pylabtools', 'IPython.core.magics.script', 'IPython.lib.backgroundjobs', 'IPython.core.shellapp', 'IPython.extensions', 'IPython.extensions.storemagic', 'IPython.utils.frame', 'jupyter_client', 'jupyter_client._version', 'jupyter_client.connect', 'zmq', 'zmq.backend', 'zmq.backend.select', 'zmq.backend.cython', 'zmq.backend.cython.constants', 'cython_runtime', 'zmq.backend.cython.error', '_cython_0_29_21', 'zmq.backend.cython.message', 'zmq.error', 'zmq.backend.cython.context', 'zmq.backend.cython.socket', 'zmq.backend.cython.utils', 'zmq.backend.cython._poll', 'zmq.backend.cython._version', 'zmq.backend.cython._device', 'zmq.backend.cython._proxy_steerable', 'zmq.sugar', 'zmq.sugar.constants', 'zmq.utils', 'zmq.utils.constant_names', 'zmq.sugar.context', 'zmq.sugar.attrsettr', 'zmq.sugar.socket', 'zmq.sugar.poll', 'zmq.utils.jsonapi', 'zmq.utils.strtypes', 'zmq.sugar.frame', 'zmq.sugar.tracker', 'zmq.sugar.version', 'zmq.sugar.stopwatch', 'jupyter_client.localinterfaces', 'jupyter_core', 'jupyter_core.version', 'jupyter_core.paths', 'jupyter_client.utils', 'jupyter_client.launcher', 'traitlets.log', 'jupyter_client.client', 'jupyter_client.channels', 'jupyter_client.channelsabc', 'jupyter_client.clientabc', 'jupyter_client.manager', 'jupyter_client.kernelspec', 'jupyter_client.managerabc', 'jupyter_client.blocking', 'jupyter_client.blocking.client', 'jupyter_client.blocking.channels', 'jupyter_client.asynchronous', 'jupyter_client.asynchronous.client', 'zmq.asyncio', 'zmq._future', 'jupyter_client.asynchronous.channels', 'jupyter_client.multikernelmanager', 'uuid', 'ipykernel.kernelapp', 'tornado', 'tornado.ioloop', 'numbers', 'tornado.concurrent', 'tornado.log', 'logging.handlers', 'tornado.escape', 'tornado.util', 'tornado.speedups', 'colorama', 'colorama.initialise', 'colorama.ansitowin32', 'colorama.ansi', 'colorama.winterm', 'colorama.win32', 'zmq.eventloop', 'zmq.eventloop.ioloop', 'tornado.platform', 'tornado.platform.asyncio', 'tornado.gen', 'zmq.eventloop.zmqstream', 'ipykernel.iostream', 'imp', 'jupyter_client.session', 'hmac', 'jupyter_client.jsonutil', 'dateutil', 'dateutil._version', 'dateutil.parser', 'dateutil.parser._parser', 'six', 'decimal', '_decimal', 'dateutil.relativedelta', 'dateutil._common', 'dateutil.tz', 'dateutil.tz.tz', 'six.moves', 'dateutil.tz._common', 'dateutil.tz._factories', 'dateutil.tz.win', 'dateutil.parser.isoparser', '_strptime', 'jupyter_client.adapter', 'ipykernel.control', 'ipykernel.heartbeat', 'ipykernel.ipkernel', 'IPython.utils.tokenutil', 'ipykernel.comm', 'ipykernel.comm.manager', 'ipykernel.comm.comm', 'ipykernel.kernelbase', 'tornado.queues', 'tornado.locks', 'ipykernel.jsonutil', 'ipykernel.zmqshell', 'IPython.core.payloadpage', 'ipykernel.displayhook', 'ipykernel.eventloops', 'distutils', 'distutils.version', 'ipykernel.debugger', 'ipykernel.compiler', 'debugpy', 'debugpy._version', 'debugpy.common', 'debugpy.common.compat', 'debugpy.common.fmt', 'debugpy.common.json', 'ipykernel.parentpoller', 'win32api', 'win32security', 'ntsecuritycon', 'faulthandler', 'IPython.core.completerlib', 'storemagic', 'numpy', 'numpy._globals', 'numpy.__config__', 'numpy._version', 'numpy._distributor_init', 'numpy.core', 'numpy.version', 'numpy.core.multiarray', 'numpy.core.overrides', 'numpy.core._multiarray_umath', 'numpy.compat', 'numpy.compat._inspect', 'numpy.compat.py3k', 'numpy.core.umath', 'numpy.core.numerictypes', 'numpy.core._string_helpers', 'numpy.core._type_aliases', 'numpy.core._dtype', 'numpy.core.numeric', 'numpy.core.shape_base', 'numpy.core.fromnumeric', 'numpy.core._methods', 'numpy.core._exceptions', 'numpy.core._ufunc_config', 'numpy.core.arrayprint', 'numpy.core._asarray', 'numpy.core.defchararray', 'numpy.core.records', 'numpy.core.memmap', 'numpy.core.function_base', 'numpy.core.machar', 'numpy.core.getlimits', 'numpy.core.einsumfunc', 'numpy.core._add_newdocs', 'numpy.core._multiarray_tests', 'numpy.core._add_newdocs_scalars', 'numpy.core._dtype_ctypes', 'numpy.core._internal', 'numpy._pytesttester', 'numpy.lib', 'numpy.lib.mixins', 'numpy.lib.scimath', 'numpy.lib.type_check', 'numpy.lib.ufunclike', 'numpy.lib.index_tricks', 'numpy.matrixlib', 'numpy.matrixlib.defmatrix', 'numpy.linalg', 'numpy.linalg.linalg', 'numpy.lib.twodim_base', 'numpy.lib.stride_tricks', 'numpy.linalg.lapack_lite', 'numpy.linalg._umath_linalg', 'numpy.lib.function_base', 'numpy.lib.histograms', 'numpy.lib.nanfunctions', 'numpy.lib.shape_base', 'numpy.lib.polynomial', 'numpy.lib.utils', 'numpy.lib.arraysetops', 'numpy.lib.npyio', 'numpy.lib.format', 'numpy.lib._datasource', 'numpy.lib._iotools', 'numpy.lib.arrayterator', 'numpy.lib.arraypad', 'numpy.lib._version', 'numpy.fft', 'numpy.fft._pocketfft', 'numpy.fft._pocketfft_internal', 'numpy.fft.helper', 'numpy.polynomial', 'numpy.polynomial.polynomial', 'numpy.polynomial.polyutils', 'numpy.polynomial._polybase', 'numpy.polynomial.chebyshev', 'numpy.polynomial.legendre', 'numpy.polynomial.hermite', 'numpy.polynomial.hermite_e', 'numpy.polynomial.laguerre', 'numpy.random', 'numpy.random._pickle', 'numpy.random.mtrand', 'numpy.random.bit_generator', '_cython_0_29_23', 'numpy.random._common', 'secrets', 'numpy.random._bounded_integers', 'numpy.random._mt19937', 'numpy.random._philox', 'numpy.random._pcg64', 'numpy.random._sfc64', 'numpy.random._generator', 'numpy.ctypeslib', 'numpy.ma', 'numpy.ma.core', 'numpy.ma.extras', 'tqdm', 'tqdm._monitor', 'tqdm._tqdm_pandas', 'tqdm.cli', 'tqdm.std', 'tqdm.utils', 'tqdm.version', 'tqdm._dist_ver', 'tqdm.gui', 'definitions', 'detectime', 'yaml', 'yaml.error', 'yaml.tokens', 'yaml.events', 'yaml.nodes', 'yaml.loader', 'yaml.reader', 'yaml.scanner', 'yaml.parser', 'yaml.composer', 'yaml.constructor', 'yaml.resolver', 'yaml.dumper', 'yaml.emitter', 'yaml.serializer', 'yaml.representer', 'yaml.cyaml', 'yaml._yaml', 'logging.config', 'socketserver', 'pythonjsonlogger', 'pythonjsonlogger.jsonlogger', 'detectime.utils', 'cv2', 'cv2.Error', 'cv2.cuda', 'cv2.detail', 'cv2.dnn', 'cv2.fisheye', 'cv2.flann', 'cv2.gapi', 'cv2.gapi.core', 'cv2.gapi.core.cpu', 'cv2.gapi.core.fluid', 'cv2.gapi.core.ocl', 'cv2.gapi.ie', 'cv2.gapi.ie.detail', 'cv2.gapi.onnx', 'cv2.gapi.own', 'cv2.gapi.own.detail', 'cv2.gapi.streaming', 'cv2.gapi.video', 'cv2.gapi.wip', 'cv2.ipp', 'cv2.ml', 'cv2.ocl', 'cv2.ogl', 'cv2.parallel', 'cv2.samples', 'cv2.segmentation', 'cv2.utils', 'cv2.utils.fs', 'cv2.videoio_registry', 'cv2.cv2', 'cv2.data', 'cv2.version', 'torch', 'torch._utils', 'torch._utils_internal', 'torch.version', 'torch._six', 'torch._C._onnx', 'torch._C._jit', 'torch._C._jit_tree_views', 'torch._C._te', 'torch._C.cpp', 'torch._C.cpp.nn', 'torch._C', 'torch._C._fft', 'torch._C._fx', 'torch._C._linalg', 'torch._C._nn', 'torch._C._special', 'torch._tensor', 'torch._namedtensor_internals', 'torch.overrides', 'torch.utils', 'torch.utils.throughput_benchmark', 'torch.utils._crash_handler', 'torch.utils.hooks', 'torch.storage', 'torch.random', 'torch.serialization', 'tarfile', 'torch.types', 'torch._tensor_str', 'torch.cuda', 'torch.cuda._utils', 'torch.cuda.streams', 'torch.cuda.memory', 'torch.cuda.random', 'torch.cuda.sparse', 'torch.cuda.profiler', 'torch.cuda.nvtx', 'torch.cuda.amp', 'torch.cuda.amp.autocast_mode', 'torch.cuda.amp.common', 'torch.cuda.amp.grad_scaler', 'torch.sparse', 'torch.functional', 'torch.nn', 'torch.nn.modules', 'torch.nn.modules.module', 'torch.nn.parameter', 'torch.nn.modules.linear', 'torch.nn.functional', 'torch._VF', 'torch._torch_docs', 'torch._jit_internal', 'torch.distributed', 'torch._C._distributed_c10d', 'torch.distributed.distributed_c10d', 'torch.distributed.constants', 'torch.distributed.rendezvous', 'torch.distributed.rpc', 'torch.futures', 'torch.package', 'torch.package.analyze', 'torch.package.analyze.trace_dependencies', 'torch.package.analyze.is_from_package', 'torch.package._mangling', 'torch.package.file_structure_representation', 'torch.package.glob_group', 'torch.package.importer', 'torch.package.package_exporter', 'pickletools', 'dataclasses', 'torch.package._digraph', 'torch.package._importlib', 'torch.package._package_pickler', 'torch.package._stdlib', 'torch.package.find_file_dependencies', 'torch.package.package_importer', 'torch.package._mock_zipreader', 'torch.package._package_unpickler', 'typing_extensions', 'torch.nn._reduction', 'torch.nn.grad', 'torch.nn.modules.utils', 'torch.nn.init', 'torch.nn.modules.lazy', 'torch.nn.modules.conv', 'torch.nn.common_types', 'torch.nn.modules.activation', 'torch.nn.modules.loss', 'torch.nn.modules.distance', 'torch.nn.modules.container', 'torch.nn.modules.pooling', 'torch.nn.modules.batchnorm', 'torch.nn.modules._functions', 'torch.autograd', 'torch.autograd.variable', 'torch.autograd.function', 'torch.autograd.gradcheck', 'torch.testing', 'torch.testing._core', 'cmath', 'torch.testing._asserts', 'torch.testing._check_kernel_launches', 'torch._vmap_internals', 'torch.utils._pytree', 'torch.autograd.grad_mode', 'torch.autograd.anomaly_mode', 'torch.autograd.functional', 'torch.autograd.forward_ad', 'torch._C._autograd', 'torch.autograd.profiler', 'torch.nn.modules.instancenorm', 'torch.nn.modules.normalization', 'torch.nn.modules.dropout', 'torch.nn.modules.padding', 'torch.nn.modules.sparse', 'torch.nn.modules.rnn', 'torch.nn.utils', 'torch.nn.utils.rnn', 'torch.nn.utils.clip_grad', 'torch.nn.utils.weight_norm', 'torch.nn.utils.convert_parameters', 'torch.nn.utils.spectral_norm', 'torch.nn.utils.fusion', 'torch.nn.utils.memory_format', 'torch.nn.utils.parametrizations', 'torch.nn.utils.parametrize', 'torch.nn.modules.pixelshuffle', 'torch.nn.modules.upsampling', 'torch.nn.modules.fold', 'torch.nn.modules.adaptive', 'torch.nn.modules.transformer', 'torch.nn.modules.flatten', 'torch.nn.modules.channelshuffle', 'torch.nn.parallel', 'torch.nn.parallel.parallel_apply', 'torch.nn.parallel.replicate', 'torch.nn.parallel.comm', 'torch.cuda.nccl', 'torch.nn.parallel.data_parallel', 'torch.nn.parallel.scatter_gather', 'torch.nn.parallel._functions', 'torch.nn.parallel.distributed', 'torch._lowrank', 'torch._linalg_utils', 'torch._autograd_functions', 'torch.fft', 'torch.nn.intrinsic', 'torch.nn.intrinsic.modules', 'torch.nn.intrinsic.modules.fused', 'torch.nn.quantizable', 'torch.nn.quantizable.modules', 'torch.nn.quantizable.modules.activation', 'torch.nn.quantized', 'torch.nn.quantized.modules', 'torch.nn.quantized.modules.activation', 'torch.nn.quantized.functional', 'torch.nn.quantized.modules.utils', 'torch.jit', 'torch.jit._script', 'torch.jit._recursive', 'torch.jit.frontend', 'torch.jit._monkeytype_config', 'torch.jit.annotations', 'torch.jit._state', 'astunparse', 'astunparse.unparser', 'astunparse.printer', 'torch.jit._builtins', 'torch.backends', 'torch.backends.cudnn', 'torch.jit._check', 'torch.jit._fuser', 'torch.jit._serialization', 'torch.distributed.autograd', 'torch.jit._trace', 'torch.jit._async', 'torch.jit._freeze', 'torch.nn.quantized.modules.batchnorm', 'torch.nn.quantized.modules.normalization', 'torch.nn.quantized.modules.conv', 'torch.nn.intrinsic.qat', 'torch.nn.intrinsic.qat.modules', 'torch.nn.intrinsic.qat.modules.linear_relu', 'torch.nn.qat', 'torch.nn.qat.modules', 'torch.nn.qat.modules.linear', 'torch.nn.qat.modules.conv', 'torch.nn.intrinsic.qat.modules.conv_fused', 'torch._ops', 'torch.nn.quantized.modules.linear', 'torch.nn.quantized.modules.embedding_ops', 'torch.nn.quantized.modules.functional_modules', 'torch.nn.quantizable.modules.rnn', 'torch.optim', 'torch.optim.adadelta', 'torch.optim._functional', 'torch.optim.optimizer', 'torch.optim.adagrad', 'torch.optim.adam', 'torch.optim.adamw', 'torch.optim.sparse_adam', 'torch.optim.adamax', 'torch.optim.asgd', 'torch.optim.sgd', 'torch.optim.rprop', 'torch.optim.rmsprop', 'torch.optim.lbfgs', 'torch.optim.lr_scheduler', 'torch.optim.swa_utils', 'torch.optim._multi_tensor', 'torch.optim._multi_tensor.adam', 'torch.optim._multi_tensor.adamw', 'torch.optim._multi_tensor.sgd', 'torch.optim._multi_tensor.rmsprop', 'torch.optim._multi_tensor.rprop', 'torch.optim._multi_tensor.asgd', 'torch.optim._multi_tensor.adamax', 'torch.optim._multi_tensor.adadelta', 'torch.multiprocessing', 'torch.multiprocessing.reductions', 'multiprocessing', 'multiprocessing.context', 'multiprocessing.process', 'multiprocessing.reduction', '__mp_main__', 'multiprocessing.util', 'multiprocessing.resource_sharer', 'torch.multiprocessing.spawn', 'multiprocessing.connection', '_multiprocessing', 'torch.special', 'torch.utils.backcompat', 'torch.onnx', 'torch.linalg', 'torch.hub', 'zipfile', 'tqdm.auto', 'tqdm.autonotebook', 'tqdm.notebook', 'ipywidgets', 'ipywidgets._version', 'ipywidgets.widgets', 'ipywidgets.widgets.widget', 'ipywidgets.widgets.domwidget', 'ipywidgets.widgets.trait_types', 'ipywidgets.widgets.util', 'ipywidgets.widgets.widget_layout', 'ipywidgets.widgets.widget_style', 'ipywidgets.widgets.valuewidget', 'ipywidgets.widgets.widget_core', 'ipywidgets.widgets.widget_bool', 'ipywidgets.widgets.widget_description', 'ipywidgets.widgets.widget_button', 'ipywidgets.widgets.widget_box', 'ipywidgets.widgets.docutils', 'ipywidgets.widgets.widget_float', 'ipywidgets.widgets.widget_int', 'ipywidgets.widgets.widget_color', 'ipywidgets.widgets.widget_date', 'ipywidgets.widgets.widget_output', 'ipywidgets.widgets.widget_selection', 'ipywidgets.widgets.widget_selectioncontainer', 'ipywidgets.widgets.widget_string', 'ipywidgets.widgets.widget_controller', 'ipywidgets.widgets.interaction', 'ipywidgets.widgets.widget_link', 'ipywidgets.widgets.widget_media', 'ipywidgets.widgets.widget_templates', 'ipywidgets.widgets.widget_upload', 'tqdm.asyncio', 'torch.distributions', 'torch.distributions.bernoulli', 'torch.distributions.constraints', 'torch.distributions.exp_family', 'torch.distributions.distribution', 'torch.distributions.utils', 'torch.distributions.beta', 'torch.distributions.dirichlet', 'torch.distributions.binomial', 'torch.distributions.categorical', 'torch.distributions.cauchy', 'torch.distributions.chi2', 'torch.distributions.gamma', 'torch.distributions.constraint_registry', 'torch.distributions.transforms', 'torch.distributions.continuous_bernoulli', 'torch.distributions.exponential', 'torch.distributions.fishersnedecor', 'torch.distributions.geometric', 'torch.distributions.gumbel', 'torch.distributions.uniform', 'torch.distributions.transformed_distribution', 'torch.distributions.independent', 'torch.distributions.half_cauchy', 'torch.distributions.half_normal', 'torch.distributions.normal', 'torch.distributions.kl', 'torch.distributions.laplace', 'torch.distributions.lowrank_multivariate_normal', 'torch.distributions.multivariate_normal', 'torch.distributions.one_hot_categorical', 'torch.distributions.pareto', 'torch.distributions.poisson', 'torch.distributions.kumaraswamy', 'torch.distributions.lkj_cholesky', 'torch.distributions.log_normal', 'torch.distributions.logistic_normal', 'torch.distributions.mixture_same_family', 'torch.distributions.multinomial', 'torch.distributions.negative_binomial', 'torch.distributions.relaxed_bernoulli', 'torch.distributions.relaxed_categorical', 'torch.distributions.studentT', 'torch.distributions.von_mises', 'torch.distributions.weibull', 'torch.backends.cuda', 'torch.backends.mkl', 'torch.backends.mkldnn', 'torch.backends.openmp', 'torch.backends.quantized', 'torch.quantization', 'torch.quantization.quantize', 'torch.quantization.quantization_mappings', 'torch.nn.intrinsic.quantized', 'torch.nn.intrinsic.quantized.modules', 'torch.nn.intrinsic.quantized.modules.linear_relu', 'torch.nn.intrinsic.quantized.modules.conv_relu', 'torch.nn.intrinsic.quantized.modules.bn_relu', 'torch.nn.quantized.dynamic', 'torch.nn.quantized.dynamic.modules', 'torch.nn.quantized.dynamic.modules.linear', 'torch.nn.quantized.dynamic.modules.rnn', 'torch.quantization.stubs', 'torch.quantization.fake_quantize', 'torch.quantization.observer', 'torch.quantization.utils', 'torch.quantization.quant_type', 'torch.quantization.qconfig', 'torch.quantization.fuse_modules', 'torch.quantization.fuser_method_mappings', 'torch.quantization.quantize_jit', 'torch.utils.data', 'torch.utils.data.sampler', 'torch.utils.data.dataset', 'torch.utils.data._typing', 'torch.utils.data.distributed', 'torch.utils.data.dataloader', 'torch.utils.data._utils', 'torch.utils.data._utils.worker', 'torch.utils.data._utils.signal_handling', 'torch.utils.data._utils.pin_memory', 'torch.utils.data._utils.collate', 'torch.utils.data._utils.fetch', 'torch.utils.data._decorator', 'torch.utils.data.datapipes', 'torch.utils.data.datapipes.iter', 'torch.utils.data.datapipes.iter.listdirfiles', 'torch.utils.data.datapipes.utils', 'torch.utils.data.datapipes.utils.common', 'torch.utils.data.datapipes.iter.loadfilesfromdisk', 'torch.utils.data.datapipes.iter.readfilesfromtar', 'torch.utils.data.datapipes.iter.readfilesfromzip', 'torch.utils.data.datapipes.iter.routeddecoder', 'torch.utils.data.datapipes.utils.decoder', 'torch.utils.data.datapipes.iter.callable', 'torch.utils.data.datapipes.iter.combining', 'torch.utils.data.datapipes.iter.combinatorics', 'torch.utils.data.datapipes.iter.grouping', 'torch.utils.data.datapipes.iter.selecting', 'torch.__config__', 'torch.__future__', 'torch.profiler', 'torch.profiler.profiler', 'gzip', 'torch._tensor_docs', 'torch._storage_docs', 'torch._classes', 'torch.quasirandom', 'torch.multiprocessing._atfork', 'torch._lobpcg', 'pandas', 'pytz', 'pytz.exceptions', 'pytz.lazy', 'pytz.tzinfo', 'pytz.tzfile', 'pandas.compat', 'pandas._typing', 'pandas.compat.numpy', 'pandas._libs', 'pandas._libs.interval', 'pandas._libs.hashtable', 'pandas._libs.missing', 'pandas._libs.tslibs', 'pandas._libs.tslibs.dtypes', 'pandas._libs.tslibs.conversion', 'pandas._libs.tslibs.base', 'pandas._libs.tslibs.nattype', 'pandas._libs.tslibs.np_datetime', 'pandas._libs.tslibs.timezones', 'pandas._libs.tslibs.tzconversion', 'pandas._libs.tslibs.ccalendar', 'pandas._libs.tslibs.parsing', 'pandas._libs.tslibs.offsets', 'pandas._libs.tslibs.timedeltas', 'pandas._libs.tslibs.timestamps', 'pandas._libs.tslibs.fields', 'pandas._config', 'pandas._config.config', 'pandas._config.dates', 'pandas._config.display', 'pandas._config.localization', 'pandas._libs.tslibs.strptime', 'dateutil.easter', 'pandas._libs.properties', 'pandas._libs.tslibs.period', 'pandas._libs.tslibs.vectorized', 'pandas._libs.ops_dispatch', 'pandas._libs.algos', 'pandas._libs.lib', 'pandas._libs.tslib', 'pandas.core', 'pandas.core.config_init', 'pandas.core.api', 'pandas.core.dtypes', 'pandas.core.dtypes.dtypes', 'pandas.core.dtypes.base', 'pandas.errors', 'pandas.core.dtypes.generic', 'pandas.core.dtypes.inference', 'pandas.core.dtypes.missing', 'pandas.core.dtypes.common', 'pandas.core.algorithms', 'pandas.util', 'pandas.util._decorators', 'pandas.core.util', 'pandas.core.util.hashing', 'pandas._libs.hashing', 'pandas.core.dtypes.cast', 'pandas.util._validators', 'pandas.core.construction', 'pandas.core.common', 'pandas.core.indexers', 'pandas.core.arrays', 'pandas.core.arrays.base', 'pandas.compat.numpy.function', 'pandas.core.ops', 'pandas.core.ops.array_ops', 'pandas._libs.ops', 'pandas.core.ops.missing', 'pandas.core.ops.roperator', 'pandas.core.ops.dispatch', 'pandas.core.ops.invalid', 'pandas.core.ops.common', 'pandas.core.ops.docstrings', 'pandas.core.ops.mask_ops', 'pandas.core.ops.methods', 'pandas.core.missing', 'pandas.compat._optional', 'pandas.core.sorting', 'pandas.core.arrays.boolean', 'pandas.core.arrays.masked', 'pandas.core.nanops', 'pandas.core.array_algos', 'pandas.core.array_algos.masked_reductions', 'pandas.core.arrays.categorical', 'csv', '_csv', 'pandas.core.accessor', 'pandas.core.array_algos.transforms', 'pandas.core.arrays._mixins', 'pandas.core.base', 'pandas.io', 'pandas.io.formats', 'pandas.io.formats.console', 'pandas.core.arrays.datetimes', 'pandas.core.arrays.datetimelike', 'pandas.tseries', 'pandas.tseries.frequencies', 'pandas.core.arrays._ranges', 'pandas.tseries.offsets', 'pandas.core.arrays.integer', 'pandas.core.tools', 'pandas.core.tools.numeric', 'pandas.core.arrays.interval', 'pandas.core.indexes', 'pandas.core.indexes.base', 'pandas._libs.index', 'pandas._libs.join', 'pandas.core.dtypes.concat', 'pandas.core.arrays.sparse', 'pandas.core.arrays.sparse.accessor', 'pandas.core.arrays.sparse.array', 'pandas._libs.sparse', 'pandas.core.arrays.sparse.dtype', 'pandas.io.formats.printing', 'pandas.core.indexes.frozen', 'pandas.core.strings', 'pandas.core.arrays.numpy_', 'pandas.core.arrays.period', 'pandas.core.arrays.string_', 'pandas.core.arrays.timedeltas', 'pandas.core.groupby', 'pandas.core.groupby.generic', 'pandas.core.aggregation', 'pandas.core.indexes.api', 'pandas.core.indexes.category', 'pandas.core.indexes.extension', 'pandas.core.indexes.datetimes', 'pandas.core.indexes.datetimelike', 'pandas.core.indexes.numeric', 'pandas.core.tools.timedeltas', 'pandas.core.tools.times', 'pandas.core.indexes.interval', 'pandas.util._exceptions', 'pandas.core.indexes.multi', 'pandas.core.indexes.timedeltas', 'pandas.core.indexes.period', 'pandas.core.indexes.range', 'pandas.core.series', 'pandas._libs.reshape', 'pandas.core.generic', 'pandas.core.indexing', 'pandas._libs.indexing', 'pandas.core.internals', 'pandas.core.internals.blocks', 'pandas._libs.writers', 'pandas._libs.internals', 'pandas.core.internals.concat', 'pandas.core.internals.managers', 'pandas.core.internals.ops', 'pandas.core.shared_docs', 'pandas.io.formats.format', 'pandas.io.common', 'mmap', 'pandas.core.indexes.accessors', 'pandas.core.tools.datetimes', 'pandas.arrays', 'pandas.plotting', 'pandas.plotting._core', 'pandas.plotting._misc', 'pandas.core.window', 'pandas.core.window.ewm', 'pandas._libs.window', 'pandas._libs.window.aggregations', 'pandas.core.window.common', 'pandas.core.groupby.base', 'pandas.core.window.rolling', 'pandas.core.util.numba_', 'pandas.core.window.indexers', 'pandas._libs.window.indexers', 'pandas.core.window.numba_', 'pandas.core.window.expanding', 'pandas.core.frame', 'pandas.core.internals.construction', 'pandas.core.reshape', 'pandas.core.reshape.melt', 'pandas.core.reshape.concat', 'pandas.core.reshape.util', 'pandas.io.formats.info', 'pandas.core.groupby.groupby', 'pandas._libs.groupby', 'pandas.core.groupby.ops', 'pandas._libs.reduction', 'pandas.core.groupby.grouper', 'pandas.core.groupby.categorical', 'pandas.tseries.api', 'pandas.core.computation', 'pandas.core.computation.api', 'pandas.core.computation.eval', 'pandas.core.computation.engines', 'pandas.core.computation.align', 'pandas.core.computation.common', 'pandas.core.computation.ops', 'pandas.core.computation.scope', 'pandas.compat.chainmap', 'pandas.core.computation.expr', 'pandas.core.computation.parsing', 'pandas.core.reshape.api', 'pandas.core.reshape.merge', 'pandas.core.reshape.pivot', 'pandas.core.reshape.reshape', 'pandas.core.reshape.tile', 'pandas.api', 'pandas.api.extensions', 'pandas.api.indexers', 'pandas.api.types', 'pandas.core.dtypes.api', 'pandas.util._print_versions', 'pandas.io.api', 'pandas.io.clipboards', 'pandas.io.excel', 'pandas.io.excel._base', 'pandas._libs.parsers', 'pandas.io.excel._util', 'pandas.io.parsers', 'pandas.io.date_converters', 'pandas.io.excel._odfreader', 'pandas.io.excel._openpyxl', 'pandas.io.excel._pyxlsb', 'pandas.io.excel._xlrd', 'pandas.io.excel._odswriter', 'pandas._libs.json', 'pandas.io.formats.excel', 'pandas.io.formats.css', 'pandas.io.excel._xlsxwriter', 'pandas.io.excel._xlwt', 'pandas.io.feather_format', 'pandas.io.gbq', 'pandas.io.html', 'pandas.io.json', 'pandas.io.json._json', 'pandas.io.json._normalize', 'pandas.io.json._table_schema', 'pandas.io.orc', 'pandas.io.parquet', 'pandas.io.pickle', 'pandas.compat.pickle_compat', 'pandas.io.pytables', 'pandas.core.computation.pytables', 'pandas.io.sas', 'pandas.io.sas.sasreader', 'pandas.io.spss', 'pandas.io.sql', 'pandas.io.stata', 'pandas.util._tester', 'pandas.testing', 'pandas._testing', 'pandas._libs.testing', 'pandas._version', 'torchvision', 'torchvision.extension', 'torchvision.models', 'torchvision.models.alexnet', 'torchvision.models.utils', 'torchvision.models.resnet', 'torchvision.models.vgg', 'torchvision.models.squeezenet', 'torchvision.models.inception', 'torchvision.models.densenet', 'torch.utils.checkpoint', 'torchvision.models.googlenet', 'torchvision.models.mobilenet', 'torchvision.models.mobilenetv2', 'torchvision.models.mobilenetv3', 'torchvision.models.mnasnet', 'torchvision.models.shufflenetv2', 'torchvision.models.segmentation', 'torchvision.models.segmentation.segmentation', 'torchvision.models._utils', 'torchvision.models.segmentation.deeplabv3', 'torchvision.models.segmentation._utils', 'torchvision.models.segmentation.fcn', 'torchvision.models.segmentation.lraspp', 'torchvision.models.detection', 'torchvision.models.detection.faster_rcnn', 'torchvision.ops', 'torchvision.ops.boxes', 'torchvision.ops._box_convert', 'torchvision.ops.deform_conv', 'torchvision.ops.roi_align', 'torchvision.ops._utils', 'torchvision.ops.roi_pool', 'torchvision.ops.ps_roi_align', 'torchvision.ops.ps_roi_pool', 'torchvision.ops.poolers', 'torchvision.ops.feature_pyramid_network', 'torchvision.ops.focal_loss', 'torchvision.ops._register_onnx_ops', 'torch.onnx.symbolic_helper', 'torch.onnx.utils', 'torch.onnx.symbolic_opset9', 'torch.onnx.symbolic_registry', 'torch.onnx.symbolic_opset7', 'torch.onnx.symbolic_opset8', 'torch.onnx.symbolic_opset10', 'torch.onnx.symbolic_opset11', 'torch.onnx.symbolic_opset12', 'torch.onnx.symbolic_opset13', 'torchvision.models.detection._utils', 'torchvision.ops.misc', 'torchvision.models.detection.anchor_utils', 'torchvision.models.detection.image_list', 'torchvision.models.detection.generalized_rcnn', 'torchvision.models.detection.rpn', 'torchvision.models.detection.roi_heads', 'torchvision.models.detection.transform', 'torchvision.models.detection.backbone_utils', 'torchvision.models.detection.mask_rcnn', 'torchvision.models.detection.keypoint_rcnn', 'torchvision.models.detection.retinanet', 'torchvision.models.detection.ssd', 'torchvision.models.detection.ssdlite', 'torchvision.models.video', 'torchvision.models.video.resnet', 'torchvision.models.quantization', 'torchvision.models.quantization.mobilenet', 'torchvision.models.quantization.mobilenetv2', 'torchvision.models.quantization.utils', 'torchvision.models.quantization.mobilenetv3', 'torchvision.models.quantization.resnet', 'torchvision.models.quantization.googlenet', 'torchvision.models.quantization.inception', 'torchvision.models.quantization.shufflenetv2', 'torchvision.datasets', 'torchvision.datasets.lsun', 'torchvision.datasets.vision', 'PIL', 'PIL._version', 'PIL.Image', 'defusedxml', 'defusedxml.common', 'xml.parsers', 'xml.parsers.expat', 'pyexpat.errors', 'pyexpat.model', 'pyexpat', 'xml.parsers.expat.model', 'xml.parsers.expat.errors', 'defusedxml.ElementTree', 'xml.etree', 'xml.etree.ElementPath', '_elementtree', 'xml.etree.ElementTree', 'PIL.ImageMode', 'PIL.TiffTags', 'PIL._binary', 'PIL._util', 'PIL._imaging', 'cffi', 'cffi.api', 'cffi.lock', 'cffi.error', 'cffi.model', 'torchvision.datasets.utils', 'torch.utils.model_zoo', 'torchvision.datasets._utils', 'torchvision.datasets.folder', 'torchvision.datasets.coco', 'torchvision.datasets.cifar', 'torchvision.datasets.stl10', 'torchvision.datasets.mnist', 'torchvision.datasets.svhn', 'torchvision.datasets.phototour', 'torchvision.datasets.fakedata', 'torchvision.transforms', 'torchvision.transforms.transforms', 'torchvision.transforms.functional', 'torchvision.transforms.functional_pil', 'PIL.ImageOps', 'PIL.ImageDraw', 'PIL.ImageColor', 'PIL.ImageFont', 'PIL.features', 'PIL._imagingft', 'PIL.ImageEnhance', 'PIL.ImageFilter', 'PIL.ImageStat', 'torchvision.transforms.functional_tensor', 'torchvision.transforms.autoaugment', 'torchvision.datasets.semeion', 'torchvision.datasets.omniglot', 'torchvision.datasets.sbu', 'torchvision.datasets.flickr', 'html.parser', '_markupbase', 'torchvision.datasets.voc', 'torchvision.datasets.cityscapes', 'torchvision.datasets.imagenet', 'torchvision.datasets.caltech', 'torchvision.datasets.celeba', 'torchvision.datasets.widerface', 'torchvision.datasets.sbd', 'torchvision.datasets.usps', 'torchvision.datasets.kinetics', 'torchvision.datasets.video_utils', 'fractions', 'torchvision.io', 'torchvision.io._video_opt', 'torchvision.io.video', 'torchvision.io.image', 'torchvision.datasets.hmdb51', 'torchvision.datasets.ucf101', 'torchvision.datasets.places365', 'torchvision.datasets.kitti', 'torchvision.utils', 'torchvision.version', 'detectime.models', 'detectime.loss_function', 'detectime.optimizers', 'detectime.dataset', 'detectime.augmentations', 'albumentations', 'albumentations.core', 'albumentations.core.composition', 'albumentations.augmentations', 'albumentations.augmentations.keypoints_utils', 'albumentations.core.utils', 'albumentations.core.six', 'albumentations.augmentations.bbox_utils', 'albumentations.augmentations.functional', 'scipy', 'scipy._lib', 'scipy._lib._testutils', 'scipy._lib.deprecation', 'scipy.__config__', 'scipy.version', 'scipy._distributor_init', 'scipy._lib._pep440', 'scipy._lib._ccallback', 'scipy._lib._ccallback_c', 'scipy.ndimage', 'scipy.ndimage.filters', 'scipy.ndimage._ni_support', 'scipy.ndimage._nd_image', 'scipy.ndimage._ni_docstrings', 'scipy._lib.doccer', 'scipy.ndimage.fourier', 'scipy.ndimage.interpolation', 'scipy.special', 'scipy.special.sf_error', 'scipy.special._ufuncs', 'scipy.special._ufuncs_cxx', 'scipy.special._basic', 'scipy.special.specfun', 'scipy.special.orthogonal', 'scipy.linalg', 'scipy.linalg.misc', 'scipy.linalg.blas', 'scipy.linalg._fblas', 'scipy.linalg.lapack', 'scipy.linalg._flapack', 'scipy._lib._util', 'scipy.linalg.basic', 'scipy.linalg.flinalg', 'scipy.linalg._flinalg', 'scipy.linalg.decomp', 'scipy.linalg.decomp_svd', 'scipy.linalg._solve_toeplitz', 'scipy.linalg.decomp_lu', 'scipy.linalg._decomp_ldl', 'scipy.linalg.decomp_cholesky', 'scipy.linalg.decomp_qr', 'scipy.linalg._decomp_qz', 'scipy.linalg.decomp_schur', 'scipy.linalg._decomp_polar', 'scipy.linalg.matfuncs', 'scipy.linalg.special_matrices', 'scipy.linalg._expm_frechet', 'scipy.linalg._matfuncs_sqrtm', 'scipy.linalg._matfuncs_sqrtm_triu', 'scipy.linalg._solvers', 'scipy.linalg._procrustes', 'scipy.linalg._decomp_update', 'scipy.linalg.cython_blas', 'scipy.linalg.cython_lapack', 'scipy.linalg._sketches', 'scipy.sparse', 'scipy.sparse.base', 'scipy.sparse.sputils', 'scipy.sparse.csr', 'scipy.sparse._sparsetools', 'scipy.sparse.compressed', 'scipy.sparse.data', 'scipy.sparse.dia', 'scipy.sparse._index', 'scipy.sparse.csc', 'scipy.sparse.lil', 'scipy.sparse._csparsetools', 'scipy.sparse.dok', 'scipy.sparse.coo', 'scipy.sparse.bsr', 'scipy.sparse.construct', 'scipy.sparse.extract', 'scipy.sparse._matrix_io', 'scipy.sparse.csgraph', 'scipy.sparse.csgraph._laplacian', 'scipy.sparse.csgraph._shortest_path', 'scipy.sparse.csgraph._validation', 'scipy.sparse.csgraph._tools', 'scipy.sparse.csgraph._traversal', 'scipy.sparse.csgraph._min_spanning_tree', 'scipy.sparse.csgraph._flow', 'scipy.sparse.csgraph._matching', 'scipy.sparse.csgraph._reordering', 'scipy.linalg._decomp_cossin', 'scipy.special._comb', 'scipy.special._logsumexp', 'scipy.special.spfun_stats', 'scipy.special._ellip_harm', 'scipy.special._ellip_harm_2', 'scipy.special._lambertw', 'scipy.special._spherical_bessel', 'scipy.ndimage.measurements', 'scipy.ndimage._ni_label', '_ni_label', 'scipy.ndimage.morphology', 'albumentations.augmentations.transforms', 'skimage', 'skimage._shared', 'skimage._shared.version_requirements', 'skimage._shared.geometry', 'skimage.util', 'skimage.util.dtype', 'skimage.util.shape', 'skimage.util.noise', 'skimage.util.apply_parallel', 'skimage.util.arraycrop', 'skimage.util.compare', 'skimage.util._regular_grid', 'skimage.util.unique', 'skimage.util._invert', 'skimage.util._montage', 'skimage.util._map_array', 'skimage.util._remap', 'skimage.data', 'skimage.data._binary_blobs', 'skimage.data._registry', 'skimage.util.lookfor', 'skimage.measure', 'skimage.measure._find_contours', 'skimage._shared.utils', 'skimage._shared._warnings', 'skimage.measure._find_contours_cy', 'skimage.measure._marching_cubes_lewiner', 'skimage.measure._marching_cubes_lewiner_luts', 'skimage.measure._marching_cubes_lewiner_cy', 'skimage.measure._marching_cubes_classic', 'skimage.measure._marching_cubes_classic_cy', 'skimage.measure._regionprops', 'scipy.spatial', 'scipy.spatial.kdtree', 'scipy.spatial.ckdtree', 'scipy.spatial.qhull', 'scipy._lib.messagestream', 'scipy.spatial._spherical_voronoi', 'scipy.spatial._voronoi', 'scipy.spatial._plotutils', 'scipy._lib.decorator', 'scipy.spatial._procrustes', 'scipy.spatial._geometric_slerp', 'scipy.spatial.distance', 'scipy.spatial._distance_wrap', 'scipy.spatial._hausdorff', 'scipy.spatial._distance_pybind', 'scipy.spatial.transform', 'scipy.spatial.transform.rotation', 'scipy.spatial.transform._rotation_groups', 'scipy.constants', 'scipy.constants.codata', 'scipy.constants.constants', 'scipy.spatial.transform._rotation_spline', 'skimage.measure._moments', 'skimage.measure._moments_cy', 'skimage.measure._regionprops_utils', 'skimage.measure._polygon', 'scipy.signal', 'scipy.signal.sigtools', 'scipy.signal.windows', 'scipy.signal.windows.windows', 'scipy.fft', 'scipy.fft._basic', 'scipy._lib.uarray', 'scipy._lib._uarray', 'scipy._lib._uarray._backend', 'scipy._lib._uarray._uarray', 'scipy.fft._realtransforms', 'scipy.fft._fftlog', 'scipy.fft._helper', 'scipy.fft._pocketfft', 'scipy.fft._pocketfft.basic', 'scipy.fft._pocketfft.pypocketfft', 'scipy.fft._pocketfft.helper', 'scipy.fft._pocketfft.realtransforms', 'scipy.fft._backend', 'scipy.signal.waveforms', 'scipy.signal._max_len_seq', 'scipy.signal._max_len_seq_inner', 'scipy.signal._upfirdn', 'scipy.signal._upfirdn_apply', 'scipy.signal.spline', 'scipy.signal.bsplines', 'scipy.signal.filter_design', 'scipy.optimize', 'scipy.optimize.optimize', 'scipy.optimize.linesearch', 'scipy.optimize.minpack2', 'scipy.optimize._numdiff', 'scipy.sparse.linalg', 'scipy.sparse.linalg.isolve', 'scipy.sparse.linalg.isolve.iterative', 'scipy.sparse.linalg.isolve._iterative', 'scipy.sparse.linalg.interface', 'scipy.sparse.linalg.isolve.utils', 'scipy._lib._threadsafety', 'scipy.sparse.linalg.isolve.minres', 'scipy.sparse.linalg.isolve.lgmres', 'scipy.sparse.linalg.isolve._gcrotmk', 'scipy.sparse.linalg.isolve.lsqr', 'scipy.sparse.linalg.isolve.lsmr', 'scipy.sparse.linalg.dsolve', 'scipy.sparse.linalg.dsolve.linsolve', 'scipy.sparse.linalg.dsolve._superlu', 'scipy.sparse.linalg.dsolve._add_newdocs', 'scipy.sparse.linalg.eigen', 'scipy.sparse.linalg.eigen.arpack', 'scipy.sparse.linalg.eigen.arpack.arpack', 'scipy.sparse.linalg.eigen.arpack._arpack', 'scipy.sparse.linalg.eigen.lobpcg', 'scipy.sparse.linalg.eigen.lobpcg.lobpcg', 'scipy.sparse.linalg.matfuncs', 'scipy.sparse.linalg._expm_multiply', 'scipy.sparse.linalg._onenormest', 'scipy.sparse.linalg._norm', 'scipy.optimize._group_columns', 'scipy.optimize._differentiable_functions', 'scipy.optimize._hessian_update_strategy', 'scipy.optimize._minimize', 'scipy.optimize._trustregion_dogleg', 'scipy.optimize._trustregion', 'scipy.optimize._trustregion_ncg', 'scipy.optimize._trustregion_krylov', 'scipy.optimize._trlib', 'scipy.optimize._trlib._trlib', 'scipy.optimize._trustregion_exact', 'scipy.optimize._trustregion_constr', 'scipy.optimize._trustregion_constr.minimize_trustregion_constr', 'scipy.optimize._constraints', 'numpy.testing', 'unittest', 'unittest.result', 'unittest.util', 'unittest.case', 'unittest.suite', 'unittest.loader', 'unittest.main', 'unittest.runner', 'unittest.signals', 'numpy.testing._private', 'numpy.testing._private.utils', 'numpy.testing._private.decorators', 'numpy.testing._private.nosetester', 'scipy.optimize._trustregion_constr.equality_constrained_sqp', 'scipy.optimize._trustregion_constr.projections', 'scipy.optimize._trustregion_constr.qp_subproblem', 'scipy.optimize._trustregion_constr.canonical_constraint', 'scipy.optimize._trustregion_constr.tr_interior_point', 'scipy.optimize._trustregion_constr.report', 'scipy.optimize.lbfgsb', 'scipy.optimize._lbfgsb', 'scipy.optimize.tnc', 'scipy.optimize.moduleTNC', 'scipy.optimize.cobyla', 'scipy.optimize._cobyla', 'scipy.optimize.slsqp', 'scipy.optimize._slsqp', 'scipy.optimize._root', 'scipy.optimize.minpack', 'scipy.optimize._minpack', 'scipy.optimize._lsq', 'scipy.optimize._lsq.least_squares', 'scipy.optimize._lsq.trf', 'scipy.optimize._lsq.common', 'scipy.optimize._lsq.dogbox', 'scipy.optimize._lsq.lsq_linear', 'scipy.optimize._lsq.trf_linear', 'scipy.optimize._lsq.givens_elimination', 'scipy.optimize._lsq.bvls', 'scipy.optimize._spectral', 'scipy.optimize.nonlin', 'scipy.optimize._root_scalar', 'scipy.optimize.zeros', 'scipy.optimize._zeros', 'scipy.optimize._nnls', 'scipy.optimize.__nnls', 'scipy.optimize._basinhopping', 'scipy.optimize._linprog', 'scipy.optimize._linprog_highs', 'scipy.optimize._highs', 'scipy.optimize._highs._highs_wrapper', 'scipy.optimize._highs.cython.src._highs_wrapper', 'scipy.optimize._highs._highs_constants', 'scipy.optimize._highs.cython.src._highs_constants', 'scipy.optimize._linprog_ip', 'scipy.optimize._linprog_util', 'scipy.optimize._remove_redundancy', 'scipy.linalg.interpolative', 'scipy.linalg._interpolative_backend', 'scipy.linalg._interpolative', 'scipy.optimize._linprog_simplex', 'scipy.optimize._linprog_rs', 'scipy.optimize._bglu_dense', 'scipy.optimize._linprog_doc', 'scipy.optimize._lsap', 'scipy.optimize._lsap_module', 'scipy.optimize._differentialevolution', 'scipy.optimize._shgo', 'scipy.optimize._shgo_lib', 'scipy.optimize._shgo_lib.triangulation', 'scipy.optimize._dual_annealing', 'scipy.optimize._qap', 'scipy.signal.fir_filter_design', 'scipy.signal.ltisys', 'scipy.integrate', 'scipy.integrate._quadrature', 'scipy.integrate.odepack', 'scipy.integrate._odepack', 'scipy.integrate.quadpack', 'scipy.integrate._quadpack', 'scipy.integrate._ode', 'scipy.integrate.vode', 'scipy.integrate._dop', 'scipy.integrate.lsoda', 'scipy.integrate._bvp', 'scipy.integrate._ivp', 'scipy.integrate._ivp.ivp', 'scipy.integrate._ivp.bdf', 'scipy.integrate._ivp.common', 'scipy.integrate._ivp.base', 'scipy.integrate._ivp.radau', 'scipy.integrate._ivp.rk', 'scipy.integrate._ivp.dop853_coefficients', 'scipy.integrate._ivp.lsoda', 'scipy.integrate._quad_vec', 'scipy.interpolate', 'scipy.interpolate.interpolate', 'scipy.interpolate.fitpack', 'scipy.interpolate._fitpack_impl', 'scipy.interpolate._fitpack', 'scipy.interpolate.dfitpack', 'scipy.interpolate._bsplines', 'scipy.interpolate._bspl', 'scipy.interpolate.polyint', 'scipy.interpolate._ppoly', 'scipy.interpolate.fitpack2', 'scipy.interpolate.interpnd', 'scipy.interpolate.rbf', 'scipy.interpolate._rbfinterp', 'scipy.interpolate._rbfinterp_pythran', 'scipy.interpolate._cubic', 'scipy.interpolate.ndgriddata', 'scipy.interpolate._pade', 'scipy.signal.lti_conversion', 'scipy.signal.signaltools', 'scipy.signal._arraytools', 'scipy.signal._sosfilt', 'scipy.signal._savitzky_golay', 'scipy.signal.spectral', 'scipy.signal._spectral', 'scipy.signal.wavelets', 'scipy.signal._peak_finding', 'scipy.stats', 'scipy.stats.stats', 'scipy.stats.distributions', 'scipy.stats._distn_infrastructure', 'scipy.stats._distr_params', 'scipy.misc', 'scipy.misc.doccer', 'scipy.misc.common', 'scipy.stats._constants', 'scipy.stats._continuous_distns', 'scipy.stats._stats', 'scipy.special.cython_special', 'scipy.stats._rvs_sampling', 'scipy.stats._tukeylambda_stats', 'scipy.stats._ksstats', 'scipy.stats._boost', 'scipy.stats._boost.beta_ufunc', 'beta_ufunc', 'scipy.stats._boost.binom_ufunc', 'binom_ufunc', 'scipy.stats._boost.nbinom_ufunc', 'nbinom_ufunc', 'scipy.stats._discrete_distns', 'scipy.stats.biasedurn', 'scipy.stats._entropy', 'scipy.stats.mstats_basic', 'scipy.stats._stats_mstats_common', 'scipy._lib._bunch', 'scipy.stats._hypotests', 'scipy.stats._wilcoxon_data', 'scipy.stats.morestats', 'scipy.stats.statlib', 'scipy.stats.contingency', 'scipy.stats._relative_risk', 'scipy.stats._common', 'scipy.stats._crosstab', 'scipy.stats._binomtest', 'scipy.stats._binned_statistic', 'scipy.stats.kde', 'scipy.stats.mvn', 'scipy.stats.mstats', 'scipy.stats.mstats_extras', 'scipy.stats.qmc', 'scipy.stats._qmc', 'scipy.stats._sobol', 'scipy.stats._qmc_cy', 'scipy.stats._multivariate', 'scipy.stats._bootstrap', 'scipy.stats._page_trend_test', 'scipy.stats._mannwhitneyu', 'scipy.signal._peak_finding_utils', 'skimage.measure.pnpoly', 'skimage.measure._pnpoly', 'skimage.measure.profile', 'skimage.measure.fit', 'skimage.measure.block', 'skimage.measure._label', 'skimage.measure._ccomp', 'skimage.measure.entropy', 'albumentations.core.transforms_interface', 'albumentations.core.serialization', 'albumentations.augmentations.domain_adaptation', 'skimage.exposure', 'skimage.exposure.exposure', 'skimage.color', 'skimage.color.colorconv', 'skimage.color.colorlabel', 'skimage.color.rgb_colors', 'skimage.color.delta_e', 'skimage.exposure._adapthist', 'skimage.color.adapt_rgb', 'skimage.exposure.histogram_matching', 'albumentations.augmentations.utils', 'albumentations.imgaug', 'albumentations.imgaug.transforms', 'imgaug', 'imgaug.imgaug', 'imageio', 'imageio.core', 'imageio.core.util', 'imageio.core.findlib', 'imageio.core.fetching', 'imageio.core.request', 'imageio.core.format', 'imageio.core.functions', 'imageio.plugins', 'imageio.plugins.tifffile', 'imageio.plugins.pillow', 'imageio.plugins.pillow_info', 'imageio.plugins.pillowmulti', 'imageio.plugins.grab', 'imageio.plugins.freeimage', 'imageio.plugins._freeimage', 'imageio.plugins.freeimagemulti', 'imageio.plugins.ffmpeg', 'imageio.plugins.bsdf', 'imageio.plugins.dicom', 'imageio.plugins.npz', 'imageio.plugins.swf', 'imageio.plugins.feisem', 'imageio.plugins.fits', 'imageio.plugins.simpleitk', 'imageio.plugins.gdal', 'imageio.plugins.lytro', 'imageio.plugins.spe', 'imageio.plugins.example', 'skimage.draw', 'skimage.draw.draw', 'skimage._shared._geometry', 'skimage.draw._draw', 'skimage.draw.draw3d', 'skimage.draw._random_shapes', 'skimage.draw._polygon2mask', 'skimage.draw.draw_nd', 'imgaug.augmentables', 'imgaug.augmentables.kps', 'imgaug.augmentables.base', 'imgaug.augmentables.utils', 'imgaug.augmentables.bbs', 'imgaug.augmentables.polys', 'imgaug.random', 'imgaug.augmentables.lines', 'imgaug.augmentables.heatmaps', 'imgaug.augmentables.segmaps', 'imgaug.augmenters', 'imgaug.augmenters.base', 'imgaug.augmenters.arithmetic', 'imgaug.augmenters.meta', 'imgaug.augmentables.batches', 'imgaug.augmentables.normalization', 'imgaug.dtypes', 'imgaug.parameters', 'imgaug.external', 'imgaug.external.opensimplex', 'imgaug.augmenters.artistic', 'imgaug.augmenters.color', 'imgaug.augmenters.blend', 'imgaug.augmenters.blur', 'imgaug.augmenters.convolutional', 'imgaug.augmenters.collections', 'imgaug.augmenters.flip', 'imgaug.augmenters.pillike', 'imgaug.augmenters.contrast', 'imgaug.augmenters.geometric', 'skimage.transform', 'skimage.transform.hough_transform', 'skimage.transform._hough_transform', 'skimage.transform.radon_transform', 'skimage.transform._warps', 'skimage.transform._geometric', 'skimage.transform._warps_cy', 'skimage.transform._radon_transform', 'skimage._shared.fft', 'skimage.transform.finite_radon_transform', 'skimage.transform.integral', 'skimage.transform.pyramids', 'imgaug.augmenters.size', 'imgaug.augmenters.debug', 'imgaug.augmenters.edges', 'imgaug.augmenters.imgcorruptlike', 'imgaug.augmenters.pooling', 'imgaug.augmenters.segmentation', 'skimage.segmentation', 'skimage.segmentation._expand_labels', 'skimage.segmentation.random_walker_segmentation', 'skimage.segmentation.active_contour_model', 'skimage.filters', 'skimage.filters.lpi_filter', 'skimage.filters._gaussian', 'skimage.filters.edges', 'skimage.restoration', 'skimage.restoration.deconvolution', 'skimage.restoration.uft', 'skimage.restoration.unwrap', 'skimage.restoration._unwrap_1d', 'skimage.restoration._unwrap_2d', 'skimage.restoration._unwrap_3d', 'skimage.restoration._denoise', 'skimage.restoration._denoise_cy', 'pywt', 'pywt._extensions', 'pywt._extensions._pywt', '_cython_0_29_13', 'pywt._extensions._dwt', 'pywt._extensions._cwt', 'pywt._functions', 'pywt._multilevel', 'pywt._dwt', 'pywt._c99_config', 'pywt._utils', 'pywt._multidim', 'pywt._thresholding', 'pywt._wavelet_packets', 'pywt._swt', 'pywt._extensions._swt', 'pywt._cwt', 'pywt.data', 'pywt.data._readers', 'pywt.data._wavelab_signals', 'pywt.version', 'pywt._pytesttester', 'skimage.restoration._cycle_spin', 'skimage.restoration.non_local_means', 'skimage.restoration._nl_means_denoising', 'skimage.restoration.inpaint', 'skimage.restoration.j_invariant', 'skimage.metrics', 'skimage.metrics._adapted_rand_error', 'skimage.metrics._contingency_table', 'skimage.metrics._variation_of_information', 'skimage.metrics.simple_metrics', 'skimage.metrics._structural_similarity', 'skimage.metrics.set_metrics', 'skimage.restoration.rolling_ball', 'skimage.restoration._rolling_ball_cy', 'skimage.filters._rank_order', 'skimage.filters._gabor', 'skimage.filters.thresholding', 'skimage.filters._multiotsu', 'skimage.filters._sparse', 'skimage.filters._sparse_cy', 'skimage.filters.ridges', 'skimage.feature', 'skimage.feature._canny', 'skimage.feature._cascade', 'skimage._shared.transform', 'skimage.feature._texture', 'skimage.feature._daisy', 'skimage.feature._hog', 'skimage.feature._hoghistogram', 'skimage.feature.texture', 'skimage.feature.peak', 'skimage._shared.coord', 'skimage.feature.corner', 'skimage.feature.util', 'skimage.feature.corner_cy', 'skimage.feature._hessian_det_appx', 'skimage.feature.template', 'skimage.feature.brief', 'skimage.feature.brief_cy', 'skimage.feature.censure', 'skimage.morphology', 'skimage.morphology.binary', 'skimage.morphology.misc', 'skimage.morphology.selem', 'skimage.morphology.grey', 'skimage.morphology._skeletonize', 'skimage.morphology._skeletonize_cy', 'skimage.morphology._skeletonize_3d_cy', 'skimage.morphology.convex_hull', 'skimage.morphology._convex_hull', 'skimage.morphology.greyreconstruct', 'skimage.morphology.extrema', 'skimage.morphology._util', 'skimage.morphology._extrema_cy', 'skimage.morphology._flood_fill', 'skimage.morphology._flood_fill_cy', 'skimage.morphology.max_tree', 'skimage.morphology._max_tree', 'skimage.morphology._deprecated', 'skimage.feature.censure_cy', 'skimage.feature.orb', 'skimage.feature.orb_cy', 'skimage.feature._orb_descriptor_positions', 'skimage.feature.match', 'skimage.feature.blob', 'skimage.feature.haar', 'skimage.feature._haar', 'skimage.feature._basic_features', 'concurrent.futures.thread', 'skimage.filters.rank', 'skimage.filters.rank.generic', 'skimage.filters.rank.generic_cy', 'skimage.filters.rank.core_cy', 'skimage.filters.rank.core_cy_3d', 'skimage.filters.rank._percentile', 'skimage.filters.rank.percentile_cy', 'skimage.filters.rank.bilateral', 'skimage.filters.rank.bilateral_cy', 'skimage.filters._median', 'skimage.filters._unsharp_mask', 'skimage.filters._window', 'skimage.segmentation._felzenszwalb', 'skimage.segmentation._felzenszwalb_cy', 'skimage.segmentation.slic_superpixels', 'scipy.cluster', 'scipy.cluster.vq', 'scipy.cluster._vq', 'scipy.cluster.hierarchy', 'scipy.cluster._hierarchy', 'scipy.cluster._optimal_leaf_ordering', 'scipy._lib._disjoint_set', 'skimage.segmentation._slic', 'skimage.segmentation._quickshift', 'skimage.segmentation._quickshift_cy', 'skimage.segmentation.boundaries', 'skimage.segmentation._clear_border', 'skimage.segmentation._join', 'skimage.segmentation._watershed', 'skimage.segmentation._watershed_cy', 'skimage.segmentation._chan_vese', 'skimage.segmentation.morphsnakes', 'imgaug.augmenters.weather', 'detectime.train', 'detectime.averagemeter', 'matplotlib_inline', 'matplotlib_inline.backend_inline', 'matplotlib', 'matplotlib._api', 'matplotlib._api.deprecation', 'matplotlib.cbook', 'matplotlib._c_internal_utils', 'matplotlib.docstring', 'matplotlib.rcsetup', 'matplotlib.animation', 'matplotlib._animation_data', 'matplotlib.colors', 'PIL.PngImagePlugin', 'PIL.ImageChops', 'PIL.ImageFile', 'PIL.ImagePalette', 'PIL.GimpGradientFile', 'PIL.GimpPaletteFile', 'PIL.PaletteFile', 'PIL.ImageSequence', 'matplotlib.scale', 'matplotlib.ticker', 'matplotlib.transforms', 'matplotlib._path', 'matplotlib.path', 'matplotlib.bezier', 'matplotlib._color_data', 'matplotlib.fontconfig_pattern', 'pyparsing', 'matplotlib._enums', 'cycler', 'matplotlib._version', 'matplotlib.ft2font', 'kiwisolver', 'matplotlib.dates', 'dateutil.rrule', 'matplotlib.units']\"}\n",
      "{\"asctime\": \"2021-07-03 05:14:51\", \"name\": \"matplotlib\", \"filename\": \"__init__.py\", \"levelname\": \"DEBUG\", \"message\": \"CACHEDIR=C:\\\\Users\\\\shiro\\\\.matplotlib\"}\n",
      "{\"asctime\": \"2021-07-03 05:14:51\", \"name\": \"matplotlib.font_manager\", \"filename\": \"font_manager.py\", \"levelname\": \"DEBUG\", \"message\": \"Using fontManager instance from C:\\\\Users\\\\shiro\\\\.matplotlib\\\\fontlist-v330.json\"}\n",
      "{\"asctime\": \"2021-07-03 05:14:52\", \"name\": \"matplotlib.pyplot\", \"filename\": \"pyplot.py\", \"levelname\": \"DEBUG\", \"message\": \"Loaded backend module://matplotlib_inline.backend_inline version unknown.\"}\n",
      "{\"asctime\": \"2021-07-03 05:14:52\", \"name\": \"matplotlib.pyplot\", \"filename\": \"pyplot.py\", \"levelname\": \"DEBUG\", \"message\": \"Loaded backend module://matplotlib_inline.backend_inline version unknown.\"}\n",
      "{\"asctime\": \"2021-07-03 05:14:52\", \"name\": \"matplotlib.pyplot\", \"filename\": \"pyplot.py\", \"levelname\": \"DEBUG\", \"message\": \"Loaded backend module://matplotlib_inline.backend_inline version unknown.\"}\n"
     ]
    }
   ],
   "source": [
    "import os\n",
    "import sys\n",
    "import numpy as np\n",
    "import random\n",
    "from tqdm import tqdm\n",
    "\n",
    "sys.path.append('.')\n",
    "from definitions import ROOT_DIR\n",
    "from detectime.utils import (\n",
    "    save_checkpoint,\n",
    "    train_valid_split\n",
    ")\n",
    "from detectime.models import load_model\n",
    "from detectime.loss_function import get_loss\n",
    "from detectime.optimizers import (\n",
    "    get_optimizer,\n",
    "    get_scheduler\n",
    ")\n",
    "from detectime.dataset import get_data_loaders\n",
    "from detectime.train import train, validation\n",
    "\n",
    "%matplotlib inline\n",
    "%load_ext autoreload\n",
    "%autoreload 2"
   ],
   "metadata": {
    "collapsed": false,
    "pycharm": {
     "name": "#%%\n"
    }
   }
  },
  {
   "cell_type": "code",
   "execution_count": 2,
   "metadata": {
    "collapsed": true,
    "pycharm": {
     "name": "#%%\n"
    }
   },
   "outputs": [],
   "source": [
    "DATA_PATH = ROOT_DIR / 'data'\n",
    "NOTEBOOK_PATH = ROOT_DIR / 'notebooks'\n",
    "INPUT_DATA = DATA_PATH / 'INPUT_DATA'\n",
    "INPUT_IMAGES_FOLDER = INPUT_DATA / 'TRAIN_DATA'\n",
    "TRAIN_IMG_FOLDER = INPUT_DATA / 'TRAIN_IMG'\n",
    "SAVE_TRAIN_IMAGES_HANDS = TRAIN_IMG_FOLDER / 'HANDS'\n",
    "SAVE_TRAIN_IMAGES_FACES= TRAIN_IMG_FOLDER / 'FACES'\n",
    "\n",
    "JSON_FOLDER = INPUT_DATA / 'JSON'\n",
    "FACES_JSON_PRETRAINED = JSON_FOLDER / 'train_with_bboxes.json'\n",
    "TRAIN_LABELS = INPUT_DATA / 'train.csv'\n",
    "HAND_DETECTION_FOLDER = ROOT_DIR / 'model' / 'mask_rcnn_hand_detection.h5'\n",
    "ANNOTATION_DATA = JSON_FOLDER / 'hands.json'"
   ]
  },
  {
   "cell_type": "markdown",
   "source": [
    "Подгрузим известный нам конфиг и будем использовать `device` для обучения - либо `cpu`, либо `cuda`."
   ],
   "metadata": {
    "collapsed": false
   }
  },
  {
   "cell_type": "code",
   "execution_count": 3,
   "outputs": [
    {
     "name": "stdout",
     "output_type": "stream",
     "text": [
      "device: cpu\n"
     ]
    }
   ],
   "source": [
    "import torch\n",
    "import yaml\n",
    "from detectime.utils import convert_dict_to_tuple\n",
    "\n",
    "CONFIG_PATH = ROOT_DIR / 'config.yml'\n",
    "\n",
    "with open(CONFIG_PATH) as f:\n",
    "    data = yaml.safe_load(f)\n",
    "config = convert_dict_to_tuple(dictionary=data)\n",
    "\n",
    "device_name = 'cuda' if torch.cuda.is_available() else 'cpu'\n",
    "device = torch.device(device_name)\n",
    "print(f'device: {device_name}')"
   ],
   "metadata": {
    "collapsed": false,
    "pycharm": {
     "name": "#%%\n"
    }
   }
  },
  {
   "cell_type": "markdown",
   "source": [
    "Обеспечим консистентность и воспроизводимость системы."
   ],
   "metadata": {
    "collapsed": false
   }
  },
  {
   "cell_type": "code",
   "execution_count": 4,
   "outputs": [],
   "source": [
    "seed = config.dataset.seed\n",
    "torch.manual_seed(seed)\n",
    "np.random.seed(seed)\n",
    "random.seed(seed)\n",
    "\n",
    "torch.backends.cudnn.deterministic = True\n",
    "torch.backends.cudnn.benchmark = True\n",
    "\n",
    "os.environ['CUDA_VISIBLE_DEVICES'] = config.cuda_id"
   ],
   "metadata": {
    "collapsed": false,
    "pycharm": {
     "name": "#%%\n"
    }
   }
  },
  {
   "cell_type": "markdown",
   "source": [
    "Подгрузим веса модели `ResNet34`."
   ],
   "metadata": {
    "collapsed": false
   }
  },
  {
   "cell_type": "code",
   "execution_count": 5,
   "outputs": [
    {
     "name": "stdout",
     "output_type": "stream",
     "text": [
      "Loading model...\n",
      "{\"asctime\": \"2021-07-03 05:14:52\", \"name\": \"detectime.models\", \"filename\": \"models.py\", \"levelname\": \"INFO\", \"message\": \"ResNet34\"}\n",
      "Done.\n"
     ]
    }
   ],
   "source": [
    "print(\"Loading model...\")\n",
    "net = load_model(config, device=device_name)\n",
    "print(\"Done.\")"
   ],
   "metadata": {
    "collapsed": false,
    "pycharm": {
     "name": "#%%\n"
    }
   }
  },
  {
   "cell_type": "markdown",
   "source": [
    "Подгрузим optimizer, scheduler и loss aggregator."
   ],
   "metadata": {
    "collapsed": false
   }
  },
  {
   "cell_type": "code",
   "execution_count": 6,
   "outputs": [],
   "source": [
    "criterion, criterion_val = get_loss(config, device=device_name)"
   ],
   "metadata": {
    "collapsed": false,
    "pycharm": {
     "name": "#%%\n"
    }
   }
  },
  {
   "cell_type": "code",
   "execution_count": 12,
   "outputs": [
    {
     "name": "stdout",
     "output_type": "stream",
     "text": [
      "{\"asctime\": \"2021-07-03 05:15:47\", \"name\": \"detectime.optimizers\", \"filename\": \"optimizers.py\", \"levelname\": \"INFO\", \"message\": \"0.002\"}\n",
      "{\"asctime\": \"2021-07-03 05:15:47\", \"name\": \"detectime.optimizers\", \"filename\": \"optimizers.py\", \"levelname\": \"INFO\", \"message\": \"Opt: SGD\"}\n"
     ]
    }
   ],
   "source": [
    "optimizer = get_optimizer(config, net)"
   ],
   "metadata": {
    "collapsed": false,
    "pycharm": {
     "name": "#%%\n"
    }
   }
  },
  {
   "cell_type": "code",
   "execution_count": 8,
   "outputs": [
    {
     "name": "stderr",
     "output_type": "stream",
     "text": [
      "Epochs:   0%|          | 0/21 [00:00<?, ?it/s]"
     ]
    }
   ],
   "source": [
    "n_epoch = config.train.n_epoch\n",
    "scheduler = get_scheduler(config, optimizer)\n",
    "train_epoch = tqdm(range(config.train.n_epoch),\n",
    "                   dynamic_ncols=True,\n",
    "                   desc='Epochs',\n",
    "                   position=0)"
   ],
   "metadata": {
    "collapsed": false,
    "pycharm": {
     "name": "#%%\n"
    }
   }
  },
  {
   "cell_type": "markdown",
   "source": [
    "Разделим данные на обучение и валидацию по ключу `video_name`."
   ],
   "metadata": {
    "collapsed": false
   }
  },
  {
   "cell_type": "code",
   "execution_count": 9,
   "outputs": [
    {
     "name": "stdout",
     "output_type": "stream",
     "text": [
      "{\"asctime\": \"2021-07-03 05:14:55\", \"name\": \"detectime.utils\", \"filename\": \"utils.py\", \"levelname\": \"INFO\", \"message\": \"55\"}\n",
      "{\"asctime\": \"2021-07-03 05:14:55\", \"name\": \"detectime.utils\", \"filename\": \"utils.py\", \"levelname\": \"INFO\", \"message\": \"3\"}\n",
      "{\"asctime\": \"2021-07-03 05:14:55\", \"name\": \"detectime.utils\", \"filename\": \"utils.py\", \"levelname\": \"INFO\", \"message\": \"train data length=47\"}\n",
      "{\"asctime\": \"2021-07-03 05:14:55\", \"name\": \"detectime.utils\", \"filename\": \"utils.py\", \"levelname\": \"INFO\", \"message\": \"validation data length=8\"}\n",
      "{\"asctime\": \"2021-07-03 05:14:55\", \"name\": \"detectime.utils\", \"filename\": \"utils.py\", \"levelname\": \"INFO\", \"message\": \"Savedir train and valid data: C:\\\\Users\\\\shiro\\\\Desktop\\\\new\\\\detectime\\\\data\\\\INPUT_DATA\\\\JSON\"}\n"
     ]
    }
   ],
   "source": [
    "train_data, val_data = train_valid_split(\n",
    "    ANNOTATION_DATA,\n",
    "    JSON_FOLDER,\n",
    "    val_size=0.4\n",
    ")"
   ],
   "metadata": {
    "collapsed": false,
    "pycharm": {
     "name": "#%%\n"
    }
   }
  },
  {
   "cell_type": "code",
   "execution_count": 10,
   "outputs": [],
   "source": [
    "ANNOTATIONS_TRAIN = JSON_FOLDER / 'train.json'\n",
    "ANNOTATIONS_VALID= JSON_FOLDER / 'valid.json'"
   ],
   "metadata": {
    "collapsed": false,
    "pycharm": {
     "name": "#%%\n"
    }
   }
  },
  {
   "cell_type": "code",
   "execution_count": 11,
   "outputs": [
    {
     "name": "stdout",
     "output_type": "stream",
     "text": [
      "{\"asctime\": \"2021-07-03 05:14:55\", \"name\": \"detectime.dataset\", \"filename\": \"dataset.py\", \"levelname\": \"INFO\", \"message\": \"Preparing train reader...\"}\n",
      "{\"asctime\": \"2021-07-03 05:14:55\", \"name\": \"detectime.dataset\", \"filename\": \"dataset.py\", \"levelname\": \"INFO\", \"message\": \"Done.\"}\n",
      "{\"asctime\": \"2021-07-03 05:14:55\", \"name\": \"detectime.dataset\", \"filename\": \"dataset.py\", \"levelname\": \"INFO\", \"message\": \"Preparing valid reader...\"}\n",
      "{\"asctime\": \"2021-07-03 05:14:55\", \"name\": \"detectime.dataset\", \"filename\": \"dataset.py\", \"levelname\": \"INFO\", \"message\": \"Done.\"}\n",
      "Savedir: C:\\Users\\shiro\\Desktop\\new\\detectime\\data\\experiments\\test\n"
     ]
    },
    {
     "name": "stderr",
     "output_type": "stream",
     "text": [
      "C:\\Users\\shiro\\Desktop\\detectime\\lib\\site-packages\\torch\\utils\\data\\dataloader.py:481: UserWarning: This DataLoader will create 16 worker processes in total. Our suggested max number of worker in current system is 4 (`cpuset` is not taken into account), which is smaller than what this DataLoader is going to create. Please be aware that excessive worker creation might get DataLoader running slow or even freeze, lower the worker number to avoid potential slowness/freeze if necessary.\n",
      "  cpuset_checked))\n"
     ]
    }
   ],
   "source": [
    "dt, dv = get_data_loaders(config,\n",
    "                          INPUT_IMAGES_FOLDER,\n",
    "                          ANNOTATIONS_TRAIN,\n",
    "                          ANNOTATIONS_VALID\n",
    "                          )\n",
    "\n",
    "out_dir = str(DATA_PATH / os.path.join(config.outdir, 'test'))\n",
    "print(\"Savedir: {}\".format(out_dir))\n",
    "if not os.path.exists(out_dir):\n",
    "    os.makedirs(out_dir)"
   ],
   "metadata": {
    "collapsed": false,
    "pycharm": {
     "name": "#%%\n"
    }
   }
  },
  {
   "cell_type": "code",
   "execution_count": 35,
   "outputs": [],
   "source": [
    "for epoch in train_epoch:\n",
    "    train(net, dt, criterion, optimizer, config, epoch)\n",
    "    validation(net, dv, criterion_val, epoch)\n",
    "    save_checkpoint(net, optimizer, scheduler, epoch, out_dir)\n",
    "    scheduler.step()"
   ],
   "metadata": {
    "collapsed": false,
    "pycharm": {
     "name": "#%%\n"
    }
   }
  },
  {
   "cell_type": "code",
   "execution_count": null,
   "outputs": [],
   "source": [],
   "metadata": {
    "collapsed": false,
    "pycharm": {
     "name": "#%%\n"
    }
   }
  }
 ],
 "metadata": {
  "kernelspec": {
   "name": "pycharm-f3bbdf2d",
   "language": "python",
   "display_name": "PyCharm (detectime)"
  },
  "language_info": {
   "codemirror_mode": {
    "name": "ipython",
    "version": 2
   },
   "file_extension": ".py",
   "mimetype": "text/x-python",
   "name": "python",
   "nbconvert_exporter": "python",
   "pygments_lexer": "ipython2",
   "version": "2.7.6"
  }
 },
 "nbformat": 4,
 "nbformat_minor": 0
}